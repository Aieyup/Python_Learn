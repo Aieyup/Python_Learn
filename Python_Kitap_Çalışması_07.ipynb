{
 "cells": [
  {
   "cell_type": "markdown",
   "metadata": {},
   "source": [
    "# Bölüm 13\n",
    "### Python'da Girintileme Sistemi  "
   ]
  },
  {
   "cell_type": "markdown",
   "metadata": {},
   "source": [
    "* Önceki bölümümüzde de girintileme sistemini kullandık Koşullu ifadelerimizi belirtirken bu girintileme sisteminden yararlandık,aşağıda tanımladığım c kodunu incelediğimizde;\n",
    "```c\n",
    "#include<stidio.h>\n",
    "int main(){\n",
    "\n",
    "    int a =1;\n",
    "\n",
    "    if (a==1){\n",
    "\n",
    "        printf(\"Merhaba Zalim Dunya\")\n",
    "        return 0;\n",
    "\n",
    "    }\n",
    "\n",
    "}\n",
    "\n",
    "```\n",
    "* Kodun boşluklar içerisinde ancak parentes ve süslü parantes içerisinde yazıldığını görmekteyiz buda şu anlama gelmektedir;bu süslü parentesler içerisinde yer alan kodların temel olarak girintileme sisteminin birer parçası olduğu ve bu sınırlardaki kodların işleme alınacağı anlamına gelmektedir.\n",
    "\n",
    "* Ancak Pythonda bu sınırları belirtmek için hiç bir özel karekter yada süslü parantes gibi bir kullanım yapmadık.Çünkü pythonda bu özel karekterler ya 4 ader boşluk(space) karekteri ile yada 1 adet TAB boşluğu ile sağlanmaktadır.Lütfen Programlama yapar iken girintileme sisteminin prensipte bu şekilde ayarlandığını anlayarak kullanacağınız boşlukları ve TAB atamalarını bu kullanım mantığına uygun olarak takip ediniz.\n"
   ]
  },
  {
   "cell_type": "markdown",
   "metadata": {},
   "source": []
  }
 ],
 "metadata": {
  "language_info": {
   "name": "python"
  }
 },
 "nbformat": 4,
 "nbformat_minor": 2
}
