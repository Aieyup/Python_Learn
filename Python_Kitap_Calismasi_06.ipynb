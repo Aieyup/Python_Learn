{
 "cells": [
  {
   "cell_type": "markdown",
   "metadata": {},
   "source": [
    "# Bölüm 12\n",
    "### Koşullara Bağlı Durumlar  "
   ]
  },
  {
   "cell_type": "markdown",
   "metadata": {},
   "source": []
  },
  {
   "cell_type": "code",
   "execution_count": null,
   "metadata": {},
   "outputs": [],
   "source": []
  },
  {
   "cell_type": "code",
   "execution_count": 2,
   "metadata": {},
   "outputs": [
    {
     "name": "stdout",
     "output_type": "stream",
     "text": [
      "Guido van Rossum\n"
     ]
    }
   ],
   "source": [
    "print(\"Guido van Rossum\")"
   ]
  },
  {
   "cell_type": "code",
   "execution_count": 3,
   "metadata": {},
   "outputs": [
    {
     "data": {
      "text/plain": [
       "'12'"
      ]
     },
     "execution_count": 3,
     "metadata": {},
     "output_type": "execute_result"
    }
   ],
   "source": [
    "input(\"Bir deger giriniz:\")"
   ]
  },
  {
   "cell_type": "markdown",
   "metadata": {},
   "source": [
    "* Yukarida Gordugunuz gibi temel olarak bir mesaji pint fonskiyonu ile gosterme ve kullanicidan birr input alarak ilgili istemi temel seviyede isleme adimlarini yaptik ancak kullanicidan aldigimiz bu deger bir parola olsaydi bu parolanin dogrulugunu nasil kontrol edebilirdik? daha onceki derslerimizde bahsedilmesede bazi durumlarda bu ve benzeri durumlari ele aldik.\n"
   ]
  },
  {
   "cell_type": "markdown",
   "metadata": {},
   "source": [
    "* Bu baglamda bu tur durumlari ele alirken pythonda kosullu ifadeleri kullanabilmek icin 3 temel kosul durumu mevcuttur *if,else,elif*"
   ]
  },
  {
   "cell_type": "markdown",
   "metadata": {},
   "source": [
    "* if kelimesi ingilizceden turkceye ceviri isek eğer anlamina gelmektedir. Bu anlamdan da anlayacagimiz uzere kosullu ifadeler ayni zamanda mantiki eylemleride ifade edebilmekte ve mantiksal operatorler ile de ifade edilebilmektedir.\n",
    "Bu bagamda eger kelimesinın anlamını ele alırsak daha iyi anlamlandirma yapabiliriz:\n",
    "bağlaç, (e'ğer), Farsça eger\n",
    "Şart anlamını güçlendirmek için şartlı cümlelerin başına getirilen bir söz; şayet:\n",
    "      \"O zaman inandığım gibi / Sahiden bir öbür dünya varsa eğer\" - Cahit Sıtkı Tarancı\n",
    "      -https://sozluk.gov.tr/?ara=e%C4%9Fer"
   ]
  },
  {
   "cell_type": "code",
   "execution_count": 5,
   "metadata": {},
   "outputs": [
    {
     "name": "stdout",
     "output_type": "stream",
     "text": [
      "Bir\n"
     ]
    }
   ],
   "source": [
    "a=1\n",
    "if a == 1:\n",
    "    print(\"Bir\")"
   ]
  },
  {
   "cell_type": "markdown",
   "metadata": {},
   "source": [
    "* Yukarida bu baglamda if islemini ele alan basit bir islem yaptik burada temel islem eger a degiskeninin degeri bir(1) e esit ise ekrana bir kelimesini yazdirdik\n",
    "* Yukaridaki kullanimdan anlasilacagi uzere atama islemi olan (=) ile bir degisken/vb. ile  bir degere atama yaptigimiza gore ve esitlik ifadesini iki adet (=) ifadesi ile saglandigimizi anlayabiliriz."
   ]
  },
  {
   "cell_type": "code",
   "execution_count": 7,
   "metadata": {},
   "outputs": [],
   "source": [
    "a=2\n",
    "if a == 1:\n",
    "    print(\"Bir\")\n",
    "    "
   ]
  },
  {
   "cell_type": "markdown",
   "metadata": {},
   "source": [
    "* Yukaridaki islemdende goruldugu gibi kosullu islemlerin temel prensibi anlasilabilir"
   ]
  },
  {
   "cell_type": "code",
   "execution_count": 8,
   "metadata": {},
   "outputs": [
    {
     "ename": "SyntaxError",
     "evalue": "invalid syntax (3458183198.py, line 1)",
     "output_type": "error",
     "traceback": [
      "\u001b[1;36m  Cell \u001b[1;32mIn[8], line 1\u001b[1;36m\u001b[0m\n\u001b[1;33m    Esitilik islemi yapilityor\u001b[0m\n\u001b[1;37m             ^\u001b[0m\n\u001b[1;31mSyntaxError\u001b[0m\u001b[1;31m:\u001b[0m invalid syntax\n"
     ]
    }
   ],
   "source": [
    "Esitilik islemi yapilityor\n",
    "a=1\n",
    "if a == 1:\n",
    "    print(\"Bir\")"
   ]
  },
  {
   "cell_type": "markdown",
   "metadata": {},
   "source": [
    "* Yukardidaki islemlerimiz bir yana pythonda kodlar icerisinde ve cevresinde yaptigimiz her bir islemin temelde bir anlami oldugu icin kod bloklarinin oldugu alanlarda anlamsiz olarak ifade edilebilecek,kod satırının okumaya calısmasını engellemek ıcın yorum satirlari kullanilmaktadir bu yorum satirlarini temelde # ıfadesı ıle yapmaktayız."
   ]
  },
  {
   "cell_type": "code",
   "execution_count": 9,
   "metadata": {},
   "outputs": [
    {
     "name": "stdout",
     "output_type": "stream",
     "text": [
      "Bir\n"
     ]
    }
   ],
   "source": [
    "#Esitilik islemi yapilityor\n",
    "a=1\n",
    "if a == 1:\n",
    "    print(\"Bir\")"
   ]
  },
  {
   "cell_type": "code",
   "execution_count": 10,
   "metadata": {},
   "outputs": [
    {
     "name": "stdout",
     "output_type": "stream",
     "text": [
      "Deneme 1 2 3 \n"
     ]
    }
   ],
   "source": [
    "print(\"Deneme 1 2 3 \")#Bu bir deneme satiridir."
   ]
  },
  {
   "cell_type": "code",
   "execution_count": 11,
   "metadata": {},
   "outputs": [
    {
     "name": "stdout",
     "output_type": "stream",
     "text": [
      "a ve b esit\n"
     ]
    }
   ],
   "source": [
    "a=23\n",
    "b=23\n",
    "if a == b:\n",
    "    print(\"a ve b esit\")"
   ]
  },
  {
   "cell_type": "code",
   "execution_count": 12,
   "metadata": {},
   "outputs": [
    {
     "name": "stdout",
     "output_type": "stream",
     "text": [
      "a ve b esit ve degerleri: 23\n"
     ]
    }
   ],
   "source": [
    "a=23\n",
    "b=23\n",
    "if a == b:\n",
    "    print(\"a ve b esit ve degerleri:\",a)"
   ]
  },
  {
   "cell_type": "code",
   "execution_count": 13,
   "metadata": {},
   "outputs": [],
   "source": [
    "# daha oncede bahsettigimiz gibi bir sifre isleminin dogrulugunu kontrol etmek icin if kullanalim"
   ]
  },
  {
   "cell_type": "code",
   "execution_count": 16,
   "metadata": {},
   "outputs": [
    {
     "name": "stdout",
     "output_type": "stream",
     "text": [
      "Girdiginiz Parola:python\n",
      "Parola dogru\n"
     ]
    }
   ],
   "source": [
    "parola = \"python\"\n",
    "input_parola = input(\"Lutfen Parolayi Giriniz: \")\n",
    "print(f\"Girdiginiz Parola:{input_parola}\")\n",
    "if parola == input_parola:\n",
    "    print(\"Parola dogru\") "
   ]
  },
  {
   "cell_type": "markdown",
   "metadata": {},
   "source": [
    "* else:\n",
    "- else ifadesi ile temel olarak if koşulu sağlanmadığında olmasını istediğimiz durumları ifade etmek için kullanılır. kelime anlamı ile değil ise olarak ifade edebiliriz.Bu da demek oluyor iki eğer ile ifade ettiğimiz ifadeler için ilgili koşulun sağlanmadığı durumlarda ...-eğer-...eğer değil ise --- şeklinde bir mantık ile ifade edebiliriz. "
   ]
  },
  {
   "cell_type": "code",
   "execution_count": 2,
   "metadata": {},
   "outputs": [
    {
     "name": "stdout",
     "output_type": "stream",
     "text": [
      "Girdiginiz Parola:Python\n",
      "...  Parolla Onaylandi Sisteme Hos geldiniz   ...\n"
     ]
    }
   ],
   "source": [
    "parola=\"Python\"\n",
    "inputParola=str(input(\"Lutfen Sisteme giris yapabilmek icin parolayi giriniz: \"))\n",
    "print(f\"Girdiginiz Parola:{inputParola}\")\n",
    "if inputParola==parola:\n",
    "    print(\"...  Parolla Onaylandi Sisteme Hos geldiniz   ...\")\n",
    "else:\n",
    "    print(f\"Girdiginiz Parola Hatali Lutfen tekrar deneyiniz... \\nGirdiginiz Parola:{inputParola}\")"
   ]
  },
  {
   "cell_type": "code",
   "execution_count": 4,
   "metadata": {},
   "outputs": [
    {
     "name": "stdout",
     "output_type": "stream",
     "text": [
      "Girdiginiz Parola Hatali Lutfen tekrar deneyiniz...\n",
      "Girdiginiz Parola:python\n"
     ]
    }
   ],
   "source": [
    "parola=\"Python\"\n",
    "inputParola=str(input(\"Lutfen Sisteme giris yapabilmek icin parolayi giriniz: \"))\n",
    "if inputParola==parola:\n",
    "    print(\"...  Parolla Onaylandi Sisteme Hos geldiniz   ...\")\n",
    "else:\n",
    "    print(f\"Girdiginiz Parola Hatali Lutfen tekrar deneyiniz...\\nGirdiginiz Parola:{inputParola}\")"
   ]
  },
  {
   "cell_type": "markdown",
   "metadata": {},
   "source": [
    "* Yukaridaki kullanim ile birlikte if else mantigini daha iyi anladigimizi dusunuyorum bu baglamda yukaridaki hatali kodda gordugunuz gibi kullanici input olarak iki kullanimda da \"python\" olarak sifreyi girmesine ragmen ilkinde dogru sonucu verdi ikincisinde yanlis bunun temel nedeni python dilinin buyuk kucuk harf duyarliligi olmasidir."
   ]
  },
  {
   "cell_type": "markdown",
   "metadata": {},
   "source": [
    "* elif:\n",
    "- elif kelimesi ile 2 den fazla kosullu ifadeleri ifade ederken kullaniriz. Bu kosullu ifadeleri kullnirken if kosulundan sonra elif kosulu kullanilarak ---eger---eger degil bu ise --- ... -(*eger degil ise) seklinde bir kullanim ile kosullu ifadelerden elif kosunumu kullanabiliriz/.Tabi sadece kosulu ifademizi if ve elif ilede ifade ederek ilerleyebiliriz/ "
   ]
  },
  {
   "cell_type": "code",
   "execution_count": 8,
   "metadata": {},
   "outputs": [
    {
     "name": "stdout",
     "output_type": "stream",
     "text": [
      "elma bir meyvedir...\n"
     ]
    }
   ],
   "source": [
    "inputKasa=str(input(\"Lutfen aldigininz urunun ismini giriniz: \")) #Kullanicidan aldigi urunun ismini girmesini istiyoruz.\n",
    "meyve_1=\"elma\"\n",
    "meyve_2=\"armut\"\n",
    "meyve_3=\"kiraz\"\n",
    "if inputKasa==meyve_1:\n",
    "    print(\"elma bir meyvedir...\")\n",
    "elif inputKasa ==meyve_2:\n",
    "    print(\"Armut bir meyvedir...\")\n",
    "elif inputKasa ==meyve_3:\n",
    "    print(\"Kiraz bir meyvedir...\")\n",
    "else:\n",
    "    print(f\"Aldiginiz urun envanterimizde olan bir meyve degildir,Aldiginiz urun {inputKasa}\")"
   ]
  },
  {
   "cell_type": "code",
   "execution_count": 9,
   "metadata": {},
   "outputs": [
    {
     "name": "stdout",
     "output_type": "stream",
     "text": [
      "Armut bir meyvedir...\n"
     ]
    }
   ],
   "source": [
    "inputKasa=str(input(\"Lutfen aldigininz urunun ismini giriniz: \")) #Kullanicidan aldigi urunun ismini girmesini istiyoruz.\n",
    "meyve_1=\"elma\"\n",
    "meyve_2=\"armut\"\n",
    "meyve_3=\"kiraz\"\n",
    "if inputKasa==meyve_1:\n",
    "    print(\"elma bir meyvedir...\")\n",
    "elif inputKasa ==meyve_2:\n",
    "    print(\"Armut bir meyvedir...\")\n",
    "elif inputKasa ==meyve_3:\n",
    "    print(\"Kiraz bir meyvedir...\")\n",
    "else:\n",
    "    print(f\"Aldiginiz urun envanterimizde olan bir meyve degildir,Aldiginiz urun {inputKasa}\")"
   ]
  },
  {
   "cell_type": "code",
   "execution_count": 10,
   "metadata": {},
   "outputs": [
    {
     "name": "stdout",
     "output_type": "stream",
     "text": [
      "Kiraz bir meyvedir...\n"
     ]
    }
   ],
   "source": [
    "inputKasa=str(input(\"Lutfen aldigininz urunun ismini giriniz: \")) #Kullanicidan aldigi urunun ismini girmesini istiyoruz.\n",
    "meyve_1=\"elma\"\n",
    "meyve_2=\"armut\"\n",
    "meyve_3=\"kiraz\"\n",
    "if inputKasa==meyve_1:\n",
    "    print(\"elma bir meyvedir...\")\n",
    "elif inputKasa ==meyve_2:\n",
    "    print(\"Armut bir meyvedir...\")\n",
    "elif inputKasa ==meyve_3:\n",
    "    print(\"Kiraz bir meyvedir...\")\n",
    "else:\n",
    "    print(f\"Aldiginiz urun envanterimizde olan bir meyve degildir,Aldiginiz urun {inputKasa}\")"
   ]
  },
  {
   "cell_type": "code",
   "execution_count": 11,
   "metadata": {},
   "outputs": [
    {
     "name": "stdout",
     "output_type": "stream",
     "text": [
      "Aldiginiz urun envanterimizde olan bir meyve degildir,Aldiginiz urun Karpuz\n"
     ]
    }
   ],
   "source": [
    "inputKasa=str(input(\"Lutfen aldigininz urunun ismini giriniz: \")) #Kullanicidan aldigi urunun ismini girmesini istiyoruz.\n",
    "meyve_1=\"elma\"\n",
    "meyve_2=\"armut\"\n",
    "meyve_3=\"Kiraz\"\n",
    "if inputKasa==meyve_1:\n",
    "    print(\"elma bir meyvedir...\")\n",
    "elif inputKasa ==meyve_2:\n",
    "    print(\"Armut bir meyvedir...\")\n",
    "elif inputKasa ==meyve_3:\n",
    "    print(\"Kiraz bir meyvedir...\")\n",
    "else:\n",
    "    print(f\"Aldiginiz urun envanterimizde olan bir meyve degildir,Aldiginiz urun {inputKasa}\")"
   ]
  },
  {
   "cell_type": "markdown",
   "metadata": {},
   "source": [
    "* Yukaridak kullanimda da kullanicidan bir meyve urununu girmesini istedik ve su ana kadar ogrendigimiz kosullu ifadeler yardimi ile basit bir uygulama gerceklestirdik."
   ]
  },
  {
   "cell_type": "markdown",
   "metadata": {},
   "source": [
    "* elif kosulunun temel mantigi uzere yukaridaki orneklerden de anlayacagimiz uzere ve asagida verdigim ornegide inceler isek if saglanmadi ise ondan sonraki elif eger o saglanmadi ise ondan sonraki elif eger o saglanmadi ise else blogu tetiklendi."
   ]
  },
  {
   "cell_type": "code",
   "execution_count": 12,
   "metadata": {},
   "outputs": [
    {
     "name": "stdout",
     "output_type": "stream",
     "text": [
      "{'elma'}\n"
     ]
    }
   ],
   "source": [
    "inputKasa=str(input(\"Lutfen aldiginiz urunun ismini giriniz: \"))\n",
    "meyve1=\"elma\"\n",
    "meyve2=\"armut\"\n",
    "meyve3=\"kiraz\"\n",
    "if inputKasa==meyve1:\n",
    "    print({meyve1})\n",
    "elif inputKasa == meyve2:\n",
    "    print({meyve2})\n",
    "elif inputKasa ==meyve2:\n",
    "    print(\"AAAAAAAAAAAAAAAAAAAAAAAAAAAAAAAAAAAAAAAAAAAAAAAAAAAAAAAAAAAA\")\n",
    "else:\n",
    "    print(f\"{inputKasa}\")"
   ]
  },
  {
   "cell_type": "code",
   "execution_count": 13,
   "metadata": {},
   "outputs": [
    {
     "name": "stdout",
     "output_type": "stream",
     "text": [
      "{'armut'}\n"
     ]
    }
   ],
   "source": [
    "inputKasa=str(input(\"Lutfen aldiginiz urunun ismini giriniz: \"))\n",
    "meyve1=\"elma\"\n",
    "meyve2=\"armut\"\n",
    "meyve3=\"kiraz\"\n",
    "if inputKasa==meyve1:\n",
    "    print({meyve1})\n",
    "elif inputKasa == meyve2:\n",
    "    print({meyve2})\n",
    "elif inputKasa ==meyve2:\n",
    "    print(\"AAAAAAAAAAAAAAAAAAAAAAAAAAAAAAAAAAAAAAAAAAAAAAAAAAAAAAAAAAAA\")\n",
    "else:\n",
    "    print(f\"{inputKasa}\")"
   ]
  },
  {
   "cell_type": "code",
   "execution_count": 15,
   "metadata": {},
   "outputs": [
    {
     "name": "stdout",
     "output_type": "stream",
     "text": [
      "Girdiginiz Sayi:100\n",
      "Sayi 100 dur\n",
      "Girdiginiz Sayi 150 den kucuk veyq 150 e esittir.\n",
      "Girdiginiz SAyi 50 den buyuktur\n",
      "Girdiginiz sayi 100 den kucuk veya 100 e esittir.\n"
     ]
    }
   ],
   "source": [
    "sayi=int(input(\"Lutfen biir sayi giriniz: \"))\n",
    "print(f\"Girdiginiz Sayi:{sayi}\")\n",
    "if sayi ==100:\n",
    "    print(\"Sayi 100 dur\")\n",
    "if sayi<=150:\n",
    "    print(\"Girdiginiz Sayi 150 den kucuk veyq 150 e esittir.\")\n",
    "if sayi>50:\n",
    "    print(\"Girdiginiz SAyi 50 den buyuktur\")\n",
    "if sayi<=100:\n",
    "    print(\"Girdiginiz sayi 100 den kucuk veya 100 e esittir.\")"
   ]
  },
  {
   "cell_type": "code",
   "execution_count": 16,
   "metadata": {},
   "outputs": [
    {
     "name": "stdout",
     "output_type": "stream",
     "text": [
      "Girdiginiz Sayi:100\n",
      "Sayi 100 dur\n"
     ]
    }
   ],
   "source": [
    "sayi=int(input(\"Lutfen biir sayi giriniz: \"))\n",
    "print(f\"Girdiginiz Sayi:{sayi}\")\n",
    "if sayi ==100:\n",
    "    print(\"Sayi 100 dur\")\n",
    "elif sayi<=150:\n",
    "    print(\"Girdiginiz Sayi 150 den kucuk veyq 150 e esittir.\")\n",
    "elif sayi>50:\n",
    "    print(\"Girdiginiz SAyi 50 den buyuktur\")\n",
    "elif sayi<=100:\n",
    "    print(\"Girdiginiz sayi 100 den kucuk veya 100 e esittir.\")"
   ]
  },
  {
   "cell_type": "markdown",
   "metadata": {},
   "source": [
    "* Su ana kadar ogrendiklerimiz ile basit bir hesap makinesi tasarlayalim ve prgramlayalim>\n",
    "- hesap makinemiz icersinde toplama - cikarma - carpma - bolme islemleri yapilacak,kullicidan alinan girdiye ozel olarak bu islemleri yapacak."
   ]
  },
  {
   "cell_type": "code",
   "execution_count": 25,
   "metadata": {},
   "outputs": [
    {
     "name": "stdout",
     "output_type": "stream",
     "text": [
      "****************\tHesap Makinesine Hosgeldiniz\t****************\n",
      "Toplama icin + Tusuna Basiniz\n",
      "Cikarma icin - Tusuna Basiniz\n",
      "Carpma icin x Tusuna Basiniz\n",
      "Bolme icin / Tusuna Basiniz\n",
      "10.0\n",
      "10.0 + 20.0 =30.0\n",
      "************************************************************************\n"
     ]
    }
   ],
   "source": [
    "print(\"****************\\tHesap Makinesine Hosgeldiniz\\t****************\")\n",
    "toplama='+'\n",
    "cikarma='-'\n",
    "carpma='x'\n",
    "bolme='/'\n",
    "print(f\"Toplama icin {toplama} Tusuna Basiniz\\nCikarma icin {cikarma} Tusuna Basiniz\\nCarpma icin {carpma} Tusuna Basiniz\\nBolme icin {bolme} Tusuna Basiniz\")\n",
    "islemTipi=str(input(\"Lutfen yapmak istediginiz islemi giriniz:\"))\n",
    "\n",
    "if islemTipi ==toplama:\n",
    "    sayi1=float(input(\"Lutfen toplamak istediginiz ilk sayiyi Giriniz: \"))\n",
    "    print(sayi1)\n",
    "    sayi2=float(input(\"Lutfen toplamak isteginiz ikinci sayiyi Giriniz:\"))\n",
    "    toplam=sayi1+sayi2\n",
    "    print(f\"{sayi1} + {sayi2} ={toplam}\")\n",
    "elif islemTipi ==cikarma:\n",
    "    sayi1=float(input(\"Lutfen cikarma istediginiz ilk sayiyi Giriniz: \"))\n",
    "    print(sayi1)\n",
    "    sayi2=float(input(\"Lutfen cikarma isteginiz ikinci sayiyi Giriniz:\"))\n",
    "    cikarma=sayi1-sayi2\n",
    "    print(f\"{sayi1} - {sayi2} ={cikarma}\")\n",
    "elif islemTipi ==carpma:\n",
    "    sayi1=float(input(\"Lutfen carpma istediginiz ilk sayiyi Giriniz: \"))\n",
    "    print(sayi1)\n",
    "    sayi2=float(input(\"Lutfen carpma isteginiz ikinci sayiyi Giriniz:\"))\n",
    "    carpma=sayi1*sayi2\n",
    "    print(f\"{sayi1} X {sayi2} ={carpma}\")\n",
    "elif islemTipi ==bolme:\n",
    "    sayi1=float(input(\"Lutfen bolme istediginiz ilk sayiyi Giriniz: \"))\n",
    "    print(sayi1)\n",
    "    sayi2=float(input(\"Lutfen bolme isteginiz ikinci sayiyi Giriniz:\"))\n",
    "    bolme=sayi1/sayi2\n",
    "    print(f\"{sayi1} / {sayi2} ={bolme}\")\n",
    "else: \n",
    "    print(\"Hatali Islem Tipi Girdiniz!!\")\n",
    "print(\"************************************************************************\")\n",
    "\n"
   ]
  },
  {
   "cell_type": "code",
   "execution_count": 26,
   "metadata": {},
   "outputs": [
    {
     "name": "stdout",
     "output_type": "stream",
     "text": [
      "****************\tHesap Makinesine Hosgeldiniz\t****************\n",
      "Toplama icin + Tusuna Basiniz\n",
      "Cikarma icin - Tusuna Basiniz\n",
      "Carpma icin x Tusuna Basiniz\n",
      "Bolme icin / Tusuna Basiniz\n",
      "20.0\n",
      "20.0 - 10.0 =10.0\n",
      "************************************************************************\n"
     ]
    }
   ],
   "source": [
    "print(\"****************\\tHesap Makinesine Hosgeldiniz\\t****************\")\n",
    "toplama='+'\n",
    "cikarma='-'\n",
    "carpma='x'\n",
    "bolme='/'\n",
    "print(f\"Toplama icin {toplama} Tusuna Basiniz\\nCikarma icin {cikarma} Tusuna Basiniz\\nCarpma icin {carpma} Tusuna Basiniz\\nBolme icin {bolme} Tusuna Basiniz\")\n",
    "islemTipi=str(input(\"Lutfen yapmak istediginiz islemi giriniz:\"))\n",
    "\n",
    "if islemTipi ==toplama:\n",
    "    sayi1=float(input(\"Lutfen toplamak istediginiz ilk sayiyi Giriniz: \"))\n",
    "    print(sayi1)\n",
    "    sayi2=float(input(\"Lutfen toplamak isteginiz ikinci sayiyi Giriniz:\"))\n",
    "    toplam=sayi1+sayi2\n",
    "    print(f\"{sayi1} + {sayi2} ={toplam}\")\n",
    "elif islemTipi ==cikarma:\n",
    "    sayi1=float(input(\"Lutfen cikarma istediginiz ilk sayiyi Giriniz: \"))\n",
    "    print(sayi1)\n",
    "    sayi2=float(input(\"Lutfen cikarma isteginiz ikinci sayiyi Giriniz:\"))\n",
    "    cikarma=sayi1-sayi2\n",
    "    print(f\"{sayi1} - {sayi2} ={cikarma}\")\n",
    "elif islemTipi ==carpma:\n",
    "    sayi1=float(input(\"Lutfen carpma istediginiz ilk sayiyi Giriniz: \"))\n",
    "    print(sayi1)\n",
    "    sayi2=float(input(\"Lutfen carpma isteginiz ikinci sayiyi Giriniz:\"))\n",
    "    carpma=sayi1*sayi2\n",
    "    print(f\"{sayi1} X {sayi2} ={carpma}\")\n",
    "elif islemTipi ==bolme:\n",
    "    sayi1=float(input(\"Lutfen bolme istediginiz ilk sayiyi Giriniz: \"))\n",
    "    print(sayi1)\n",
    "    sayi2=float(input(\"Lutfen bolme isteginiz ikinci sayiyi Giriniz:\"))\n",
    "    bolme=sayi1/sayi2\n",
    "    print(f\"{sayi1} / {sayi2} ={bolme}\")\n",
    "else: \n",
    "    print(\"Hatali Islem Tipi Girdiniz!!\")\n",
    "print(\"************************************************************************\")\n",
    "\n"
   ]
  },
  {
   "cell_type": "code",
   "execution_count": 27,
   "metadata": {},
   "outputs": [
    {
     "name": "stdout",
     "output_type": "stream",
     "text": [
      "****************\tHesap Makinesine Hosgeldiniz\t****************\n",
      "Toplama icin + Tusuna Basiniz\n",
      "Cikarma icin - Tusuna Basiniz\n",
      "Carpma icin x Tusuna Basiniz\n",
      "Bolme icin / Tusuna Basiniz\n",
      "10.0\n",
      "10.0 X 20.0 =200.0\n",
      "************************************************************************\n"
     ]
    }
   ],
   "source": [
    "print(\"****************\\tHesap Makinesine Hosgeldiniz\\t****************\")\n",
    "toplama='+'\n",
    "cikarma='-'\n",
    "carpma='x'\n",
    "bolme='/'\n",
    "print(f\"Toplama icin {toplama} Tusuna Basiniz\\nCikarma icin {cikarma} Tusuna Basiniz\\nCarpma icin {carpma} Tusuna Basiniz\\nBolme icin {bolme} Tusuna Basiniz\")\n",
    "islemTipi=str(input(\"Lutfen yapmak istediginiz islemi giriniz:\"))\n",
    "\n",
    "if islemTipi ==toplama:\n",
    "    sayi1=float(input(\"Lutfen toplamak istediginiz ilk sayiyi Giriniz: \"))\n",
    "    print(sayi1)\n",
    "    sayi2=float(input(\"Lutfen toplamak isteginiz ikinci sayiyi Giriniz:\"))\n",
    "    toplam=sayi1+sayi2\n",
    "    print(f\"{sayi1} + {sayi2} ={toplam}\")\n",
    "elif islemTipi ==cikarma:\n",
    "    sayi1=float(input(\"Lutfen cikarma istediginiz ilk sayiyi Giriniz: \"))\n",
    "    print(sayi1)\n",
    "    sayi2=float(input(\"Lutfen cikarma isteginiz ikinci sayiyi Giriniz:\"))\n",
    "    cikarma=sayi1-sayi2\n",
    "    print(f\"{sayi1} - {sayi2} ={cikarma}\")\n",
    "elif islemTipi ==carpma:\n",
    "    sayi1=float(input(\"Lutfen carpma istediginiz ilk sayiyi Giriniz: \"))\n",
    "    print(sayi1)\n",
    "    sayi2=float(input(\"Lutfen carpma isteginiz ikinci sayiyi Giriniz:\"))\n",
    "    carpma=sayi1*sayi2\n",
    "    print(f\"{sayi1} X {sayi2} ={carpma}\")\n",
    "elif islemTipi ==bolme:\n",
    "    sayi1=float(input(\"Lutfen bolme istediginiz ilk sayiyi Giriniz: \"))\n",
    "    print(sayi1)\n",
    "    sayi2=float(input(\"Lutfen bolme isteginiz ikinci sayiyi Giriniz:\"))\n",
    "    bolme=sayi1/sayi2\n",
    "    print(f\"{sayi1} / {sayi2} ={bolme}\")\n",
    "else: \n",
    "    print(\"Hatali Islem Tipi Girdiniz!!\")\n",
    "print(\"************************************************************************\")\n",
    "\n"
   ]
  },
  {
   "cell_type": "code",
   "execution_count": 28,
   "metadata": {},
   "outputs": [
    {
     "name": "stdout",
     "output_type": "stream",
     "text": [
      "****************\tHesap Makinesine Hosgeldiniz\t****************\n",
      "Toplama icin + Tusuna Basiniz\n",
      "Cikarma icin - Tusuna Basiniz\n",
      "Carpma icin x Tusuna Basiniz\n",
      "Bolme icin / Tusuna Basiniz\n",
      "20.0\n",
      "20.0 / 10.0 =2.0\n",
      "************************************************************************\n"
     ]
    }
   ],
   "source": [
    "print(\"****************\\tHesap Makinesine Hosgeldiniz\\t****************\")\n",
    "toplama='+'\n",
    "cikarma='-'\n",
    "carpma='x'\n",
    "bolme='/'\n",
    "print(f\"Toplama icin {toplama} Tusuna Basiniz\\nCikarma icin {cikarma} Tusuna Basiniz\\nCarpma icin {carpma} Tusuna Basiniz\\nBolme icin {bolme} Tusuna Basiniz\")\n",
    "islemTipi=str(input(\"Lutfen yapmak istediginiz islemi giriniz:\"))\n",
    "\n",
    "if islemTipi ==toplama:\n",
    "    sayi1=float(input(\"Lutfen toplamak istediginiz ilk sayiyi Giriniz: \"))\n",
    "    print(sayi1)\n",
    "    sayi2=float(input(\"Lutfen toplamak isteginiz ikinci sayiyi Giriniz:\"))\n",
    "    toplam=sayi1+sayi2\n",
    "    print(f\"{sayi1} + {sayi2} ={toplam}\")\n",
    "elif islemTipi ==cikarma:\n",
    "    sayi1=float(input(\"Lutfen cikarma istediginiz ilk sayiyi Giriniz: \"))\n",
    "    print(sayi1)\n",
    "    sayi2=float(input(\"Lutfen cikarma isteginiz ikinci sayiyi Giriniz:\"))\n",
    "    cikarma=sayi1-sayi2\n",
    "    print(f\"{sayi1} - {sayi2} ={cikarma}\")\n",
    "elif islemTipi ==carpma:\n",
    "    sayi1=float(input(\"Lutfen carpma istediginiz ilk sayiyi Giriniz: \"))\n",
    "    print(sayi1)\n",
    "    sayi2=float(input(\"Lutfen carpma isteginiz ikinci sayiyi Giriniz:\"))\n",
    "    carpma=sayi1*sayi2\n",
    "    print(f\"{sayi1} X {sayi2} ={carpma}\")\n",
    "elif islemTipi ==bolme:\n",
    "    sayi1=float(input(\"Lutfen bolme istediginiz ilk sayiyi Giriniz: \"))\n",
    "    print(sayi1)\n",
    "    sayi2=float(input(\"Lutfen bolme isteginiz ikinci sayiyi Giriniz:\"))\n",
    "    bolme=sayi1/sayi2\n",
    "    print(f\"{sayi1} / {sayi2} ={bolme}\")\n",
    "else: \n",
    "    print(\"Hatali Islem Tipi Girdiniz!!\")\n",
    "print(\"************************************************************************\")\n",
    "\n"
   ]
  },
  {
   "cell_type": "code",
   "execution_count": null,
   "metadata": {},
   "outputs": [],
   "source": []
  }
 ],
 "metadata": {
  "kernelspec": {
   "display_name": "Python 3",
   "language": "python",
   "name": "python3"
  },
  "language_info": {
   "codemirror_mode": {
    "name": "ipython",
    "version": 3
   },
   "file_extension": ".py",
   "mimetype": "text/x-python",
   "name": "python",
   "nbconvert_exporter": "python",
   "pygments_lexer": "ipython3",
   "version": "3.12.6"
  }
 },
 "nbformat": 4,
 "nbformat_minor": 2
}
