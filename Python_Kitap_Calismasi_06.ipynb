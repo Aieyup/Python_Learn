{
 "cells": [
  {
   "cell_type": "markdown",
   "metadata": {},
   "source": [
    "# Bölüm 12\n",
    "### Koşullara Bağlı Durumlar  "
   ]
  },
  {
   "cell_type": "markdown",
   "metadata": {},
   "source": []
  },
  {
   "cell_type": "code",
   "execution_count": 2,
   "metadata": {},
   "outputs": [
    {
     "name": "stdout",
     "output_type": "stream",
     "text": [
      "Guido van Rossum\n"
     ]
    }
   ],
   "source": [
    "print(\"Guido van Rossum\")"
   ]
  },
  {
   "cell_type": "code",
   "execution_count": 3,
   "metadata": {},
   "outputs": [
    {
     "data": {
      "text/plain": [
       "'12'"
      ]
     },
     "execution_count": 3,
     "metadata": {},
     "output_type": "execute_result"
    }
   ],
   "source": [
    "input(\"Bir deger giriniz:\")"
   ]
  },
  {
   "cell_type": "markdown",
   "metadata": {},
   "source": [
    "* Yukarida Gordugunuz gibi temel olarak bir mesaji pint fonskiyonu ile gosterme ve kullanicidan birr input alarak ilgili istemi temel seviyede isleme adimlarini yaptik ancak kullanicidan aldigimiz bu deger bir parola olsaydi bu parolanin dogrulugunu nasil kontrol edebilirdik? daha onceki derslerimizde bahsedilmesede bazi durumlarda bu ve benzeri durumlari ele aldik.\n"
   ]
  },
  {
   "cell_type": "markdown",
   "metadata": {},
   "source": [
    "* Bu baglamda bu tur durumlari ele alirken pythonda kosullu ifadeleri kullanabilmek icin 3 temel kosul durumu mevcuttur *if,else,elif*"
   ]
  },
  {
   "cell_type": "markdown",
   "metadata": {},
   "source": [
    "* if kelimesi ingilizceden turkceye ceviri isek eğer anlamina gelmektedir. Bu anlamdan da anlayacagimiz uzere kosullu ifadeler ayni zamanda mantiki eylemleride ifade edebilmekte ve mantiksal operatorler ile de ifade edilebilmektedir.\n",
    "Bu bagamda eger kelimesinın anlamını ele alırsak daha iyi anlamlandirma yapabiliriz:\n",
    "bağlaç, (e'ğer), Farsça eger\n",
    "Şart anlamını güçlendirmek için şartlı cümlelerin başına getirilen bir söz; şayet:\n",
    "      \"O zaman inandığım gibi / Sahiden bir öbür dünya varsa eğer\" - Cahit Sıtkı Tarancı\n",
    "      -https://sozluk.gov.tr/?ara=e%C4%9Fer"
   ]
  },
  {
   "cell_type": "code",
   "execution_count": 5,
   "metadata": {},
   "outputs": [
    {
     "name": "stdout",
     "output_type": "stream",
     "text": [
      "Bir\n"
     ]
    }
   ],
   "source": [
    "a=1\n",
    "if a == 1:\n",
    "    print(\"Bir\")"
   ]
  },
  {
   "cell_type": "markdown",
   "metadata": {},
   "source": [
    "* Yukarida bu baglamda if islemini ele alan basit bir islem yaptik burada temel islem eger a degiskeninin degeri bir(1) e esit ise ekrana bir kelimesini yazdirdik\n",
    "* Yukaridaki kullanimdan anlasilacagi uzere atama islemi olan (=) ile bir degisken/vb. ile  bir degere atama yaptigimiza gore ve esitlik ifadesini iki adet (=) ifadesi ile saglandigimizi anlayabiliriz."
   ]
  },
  {
   "cell_type": "code",
   "execution_count": 7,
   "metadata": {},
   "outputs": [],
   "source": [
    "a=2\n",
    "if a == 1:\n",
    "    print(\"Bir\")\n",
    "    "
   ]
  },
  {
   "cell_type": "markdown",
   "metadata": {},
   "source": [
    "* Yukaridaki islemdende goruldugu gibi kosullu islemlerin temel prensibi anlasilabilir"
   ]
  },
  {
   "cell_type": "code",
   "execution_count": 8,
   "metadata": {},
   "outputs": [
    {
     "ename": "SyntaxError",
     "evalue": "invalid syntax (3458183198.py, line 1)",
     "output_type": "error",
     "traceback": [
      "\u001b[1;36m  Cell \u001b[1;32mIn[8], line 1\u001b[1;36m\u001b[0m\n\u001b[1;33m    Esitilik islemi yapilityor\u001b[0m\n\u001b[1;37m             ^\u001b[0m\n\u001b[1;31mSyntaxError\u001b[0m\u001b[1;31m:\u001b[0m invalid syntax\n"
     ]
    }
   ],
   "source": [
    "Esitilik islemi yapilityor\n",
    "a=1\n",
    "if a == 1:\n",
    "    print(\"Bir\")"
   ]
  },
  {
   "cell_type": "markdown",
   "metadata": {},
   "source": [
    "* Yukardidaki islemlerimiz bir yana pythonda kodlar icerisinde ve cevresinde yaptigimiz her bir islemin temelde bir anlami oldugu icin kod bloklarinin oldugu alanlarda anlamsiz olarak ifade edilebilecek,kod satırının okumaya calısmasını engellemek ıcın yorum satirlari kullanilmaktadir bu yorum satirlarini temelde # ıfadesı ıle yapmaktayız."
   ]
  },
  {
   "cell_type": "code",
   "execution_count": 9,
   "metadata": {},
   "outputs": [
    {
     "name": "stdout",
     "output_type": "stream",
     "text": [
      "Bir\n"
     ]
    }
   ],
   "source": [
    "#Esitilik islemi yapilityor\n",
    "a=1\n",
    "if a == 1:\n",
    "    print(\"Bir\")"
   ]
  },
  {
   "cell_type": "code",
   "execution_count": 10,
   "metadata": {},
   "outputs": [
    {
     "name": "stdout",
     "output_type": "stream",
     "text": [
      "Deneme 1 2 3 \n"
     ]
    }
   ],
   "source": [
    "print(\"Deneme 1 2 3 \")#Bu bir deneme satiridir."
   ]
  },
  {
   "cell_type": "code",
   "execution_count": 11,
   "metadata": {},
   "outputs": [
    {
     "name": "stdout",
     "output_type": "stream",
     "text": [
      "a ve b esit\n"
     ]
    }
   ],
   "source": [
    "a=23\n",
    "b=23\n",
    "if a == b:\n",
    "    print(\"a ve b esit\")"
   ]
  },
  {
   "cell_type": "code",
   "execution_count": 12,
   "metadata": {},
   "outputs": [
    {
     "name": "stdout",
     "output_type": "stream",
     "text": [
      "a ve b esit ve degerleri: 23\n"
     ]
    }
   ],
   "source": [
    "a=23\n",
    "b=23\n",
    "if a == b:\n",
    "    print(\"a ve b esit ve degerleri:\",a)"
   ]
  },
  {
   "cell_type": "code",
   "execution_count": 13,
   "metadata": {},
   "outputs": [],
   "source": [
    "# daha oncede bahsettigimiz gibi bir sifre isleminin dogrulugunu kontrol etmek icin if kullanalim"
   ]
  },
  {
   "cell_type": "code",
   "execution_count": 16,
   "metadata": {},
   "outputs": [
    {
     "name": "stdout",
     "output_type": "stream",
     "text": [
      "Girdiginiz Parola:python\n",
      "Parola dogru\n"
     ]
    }
   ],
   "source": [
    "parola = \"python\"\n",
    "input_parola = input(\"Lutfen Parolayi Giriniz: \")\n",
    "print(f\"Girdiginiz Parola:{input_parola}\")\n",
    "if parola == input_parola:\n",
    "    print(\"Parola dogru\") "
   ]
  },
  {
   "cell_type": "code",
   "execution_count": null,
   "metadata": {},
   "outputs": [],
   "source": []
  }
 ],
 "metadata": {
  "kernelspec": {
   "display_name": "Python 3",
   "language": "python",
   "name": "python3"
  },
  "language_info": {
   "codemirror_mode": {
    "name": "ipython",
    "version": 3
   },
   "file_extension": ".py",
   "mimetype": "text/x-python",
   "name": "python",
   "nbconvert_exporter": "python",
   "pygments_lexer": "ipython3",
   "version": "3.12.6"
  }
 },
 "nbformat": 4,
 "nbformat_minor": 2
}
