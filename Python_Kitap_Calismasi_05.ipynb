{
 "cells": [
  {
   "cell_type": "markdown",
   "metadata": {},
   "source": [
    "# Bölüm 11\n",
    "### Kaçış dizileri\n"
   ]
  },
  {
   "cell_type": "code",
   "execution_count": 3,
   "metadata": {},
   "outputs": [
    {
     "data": {
      "text/plain": [
       "' Temelde kaçış dizilierini ilgili string değer içerisinde pythonun syntax değerlerinde yer alan argümanlar ile birlikte çakışma olmaması için kullnılır.'"
      ]
     },
     "execution_count": 3,
     "metadata": {},
     "output_type": "execute_result"
    }
   ],
   "source": [
    "\"\"\" Temelde kaçış dizilierini ilgili string değer içerisinde pythonun syntax değerlerinde yer alan argümanlar ile birlikte çakışma olmaması için kullnılır.\"\"\""
   ]
  },
  {
   "cell_type": "code",
   "execution_count": 4,
   "metadata": {},
   "outputs": [
    {
     "name": "stdout",
     "output_type": "stream",
     "text": [
      "Istanbul'un Semptleri\n"
     ]
    }
   ],
   "source": [
    "# Ornek 1\n",
    "print('Istanbul\\'un Semptleri')"
   ]
  },
  {
   "cell_type": "code",
   "execution_count": 13,
   "metadata": {},
   "outputs": [
    {
     "name": "stderr",
     "output_type": "stream",
     "text": [
      "<>:1: SyntaxWarning: invalid escape sequence '\\}'\n",
      "<>:1: SyntaxWarning: invalid escape sequence '\\}'\n",
      "C:\\Users\\asus\\AppData\\Local\\Temp\\ipykernel_22668\\327509498.py:1: SyntaxWarning: invalid escape sequence '\\}'\n",
      "  \"\"\"\n"
     ]
    },
    {
     "data": {
      "text/plain": [
       "\" \\nYukaridaku ornekte oldugu gibi kacis dizilerinden olan {\\\\} ile birlikte (') karakterini kullanarak string degeri olusturduk.\\n\""
      ]
     },
     "execution_count": 13,
     "metadata": {},
     "output_type": "execute_result"
    }
   ],
   "source": [
    "\"\"\" \n",
    "Yukaridaku ornekte oldugu gibi kacis dizilerinden olan {\\} ile birlikte (\\') karakterini kullanarak string degeri olusturduk.\n",
    "\"\"\""
   ]
  },
  {
   "cell_type": "markdown",
   "metadata": {},
   "source": [
    "* Kaçış dizileri bu örneklerden de anlaşılacağı üzere kendinden sonraki gelen karekter ile birleşerek bu karakterin özel bir anlam kazanmasını sağlar."
   ]
  },
  {
   "cell_type": "code",
   "execution_count": 16,
   "metadata": {},
   "outputs": [
    {
     "ename": "SyntaxError",
     "evalue": "unterminated string literal (detected at line 1) (348992756.py, line 1)",
     "output_type": "error",
     "traceback": [
      "\u001b[1;36m  Cell \u001b[1;32mIn[16], line 1\u001b[1;36m\u001b[0m\n\u001b[1;33m    print('Istanbul'un 5 gunluk hava tahmini')\u001b[0m\n\u001b[1;37m                                            ^\u001b[0m\n\u001b[1;31mSyntaxError\u001b[0m\u001b[1;31m:\u001b[0m unterminated string literal (detected at line 1)\n"
     ]
    }
   ],
   "source": [
    "print('Istanbul'un 5 gunluk hava tahmini')"
   ]
  },
  {
   "cell_type": "code",
   "execution_count": 17,
   "metadata": {},
   "outputs": [
    {
     "name": "stdout",
     "output_type": "stream",
     "text": [
      "Istanbul'un 5 gunluk hava tahmini\n"
     ]
    }
   ],
   "source": [
    "print('Istanbul' '\\'' 'un 5 gunluk hava tahmini')"
   ]
  },
  {
   "cell_type": "code",
   "execution_count": 20,
   "metadata": {},
   "outputs": [
    {
     "name": "stdout",
     "output_type": "stream",
     "text": [
      "Ahmet,\"Yarin ben adanaya gidiyorum.\"Dedi.\n"
     ]
    }
   ],
   "source": [
    "print(\"Ahmet,\\\"Yarin ben adanaya gidiyorum.\\\"Dedi.\")"
   ]
  },
  {
   "cell_type": "code",
   "execution_count": null,
   "metadata": {},
   "outputs": [
    {
     "name": "stdout",
     "output_type": "stream",
     "text": [
      "Bu bir hexadecimal value: A (A)\n",
      "Bu bir bell (alert) sesi: \u0007\n",
      "Bu bir backspace: Helo\n",
      "Bu bir formfeed:\fYeni sayfa\n",
      "Bu bir newline:\n",
      "Yeni satır\n",
      "Başlangıca döne return:\n",
      "Bu bir horizontal tab:\tTab\n",
      "Bu bir vertical tab:\u000bDikey tab\n",
      "Bu bir backslash: \\\n",
      "Bu bir single quote: '\n",
      "Bu bir double quote: \"\n",
      "Bu bir question mark: \\?\n",
      "Özel kaçış dizileri örnek cümlede:\n",
      "Bu bir octal value: A (A)\n",
      "\u0007\n"
     ]
    },
    {
     "name": "stderr",
     "output_type": "stream",
     "text": [
      "<>:23: SyntaxWarning: invalid escape sequence '\\?'\n",
      "<>:23: SyntaxWarning: invalid escape sequence '\\?'\n",
      "C:\\Users\\asus\\AppData\\Local\\Temp\\ipykernel_26232\\71982723.py:23: SyntaxWarning: invalid escape sequence '\\?'\n",
      "  print(\"Bu bir question mark: \\?\")\n"
     ]
    }
   ],
   "source": [
    "# Temel ozel kacis dizileri\n",
    "# \\n - yeni satir\n",
    "# \\t - tab\n",
    "# \\b - backspace\n",
    "# \\r - carriage return\n",
    "# \\f - form feed\n",
    "# \\v - vertical tab\n",
    "# \\\\ - backslash\n",
    "# \\' - single quote\n",
    "# \\\" - double quote\n",
    "# \\a - ascii bell\n",
    "print(\"Bu bir hexadecimal value: \\x41 (A)\")\n",
    "print(\"Bu bir bell (alert) sesi: \\a\")\n",
    "print(\"Bu bir backspace: Hel\\blo\")\n",
    "print(\"Bu bir formfeed:\\fYeni sayfa\")\n",
    "print(\"Bu bir newline:\\nYeni satır\")\n",
    "print(\"Bu bir carriage return:\\rBaşlangıca dön\")\n",
    "print(\"Bu bir horizontal tab:\\tTab\")\n",
    "print(\"Bu bir vertical tab:\\vDikey tab\")\n",
    "print(\"Bu bir backslash: \\\\\")\n",
    "print(\"Bu bir single quote: \\'\")\n",
    "print(\"Bu bir double quote: \\\"\")\n",
    "print(\"Bu bir question mark: \\?\")\n",
    "print(\"Özel kaçış dizileri örnek cümlede:\")\n",
    "print(\"Bu bir octal value: \\101 (A)\")"
   ]
  },
  {
   "cell_type": "code",
   "execution_count": 1,
   "metadata": {},
   "outputs": [
    {
     "name": "stdout",
     "output_type": "stream",
     "text": [
      "Birinci Satir\n",
      "Ikinci Satir\n",
      "Ucuncu Satir\n"
     ]
    }
   ],
   "source": [
    "print(\"Birinci Satir\\nIkinci Satir\\nUcuncu Satir\")"
   ]
  },
  {
   "cell_type": "code",
   "execution_count": 2,
   "metadata": {},
   "outputs": [
    {
     "name": "stdout",
     "output_type": "stream",
     "text": [
      "Uzak...\t\t\tCok Uzak\n"
     ]
    }
   ],
   "source": [
    "print(\"Uzak...\\t\\t\\tCok Uzak\")"
   ]
  },
  {
   "cell_type": "code",
   "execution_count": 3,
   "metadata": {},
   "outputs": [
    {
     "name": "stdout",
     "output_type": "stream",
     "text": [
      "Uzak...\t\t\tCook Uzak\n"
     ]
    }
   ],
   "source": [
    "print(\"Uzak...\",\"Cook Uzak\",sep=\"\\t\\t\\t\")"
   ]
  },
  {
   "cell_type": "markdown",
   "metadata": {},
   "source": [
    "* sep argumanini hatirlarsaniz daha onceki derslerimizde incelemistik bu baglamda print fonksiyonun aldigi bir arguman olarak karsimiza cikmaktadir.Bu arumanlar icin diledigimiz kacis dizilerini ekleyebiliriz."
   ]
  },
  {
   "cell_type": "markdown",
   "metadata": {},
   "source": [
    "* Kacis dizilerini belirtirken kullandigimiz \\ argumani temelde islenirken string ifade icerisinde goz ardi edilmektedir.! Bu baglamda \\ argumanini belrtmek icin yine kacis dizilerinden veya argumanin kendisinden yararlanmamiz gerekmektedir."
   ]
  },
  {
   "cell_type": "code",
   "execution_count": 4,
   "metadata": {},
   "outputs": [
    {
     "name": "stdout",
     "output_type": "stream",
     "text": [
      "Merhaba\\Dunya\n"
     ]
    },
    {
     "name": "stderr",
     "output_type": "stream",
     "text": [
      "<>:1: SyntaxWarning: invalid escape sequence '\\D'\n",
      "<>:1: SyntaxWarning: invalid escape sequence '\\D'\n",
      "C:\\Users\\asus\\AppData\\Local\\Temp\\ipykernel_22636\\67326831.py:1: SyntaxWarning: invalid escape sequence '\\D'\n",
      "  print(\"Merhaba\\Dunya\")\n"
     ]
    }
   ],
   "source": [
    "print(\"Merhaba\\Dunya\")"
   ]
  },
  {
   "cell_type": "markdown",
   "metadata": {},
   "source": [
    "* Yukaridaki ornekte oldugu gibi fonksiyon \\ ifadesini islemedi cunku temel olarak arka planda fonksiyon icerisinde \\ ifadesi var ise ondan sonra gelen kareketere bakmaktadir ki bu karakterler ile ozel islemler ve fonksiyonlar tetiklenmektedir \\n \\t gibi \\D bir ifade olusturmadigi icin hata dondurdu"
   ]
  },
  {
   "cell_type": "code",
   "execution_count": 6,
   "metadata": {},
   "outputs": [
    {
     "name": "stdout",
     "output_type": "stream",
     "text": [
      "Merhaba\\Dunya\n"
     ]
    }
   ],
   "source": [
    "print(\"Merhaba\\\\Dunya\")"
   ]
  },
  {
   "cell_type": "code",
   "execution_count": 7,
   "metadata": {},
   "outputs": [
    {
     "ename": "SyntaxError",
     "evalue": "unterminated string literal (detected at line 1) (2046610575.py, line 1)",
     "output_type": "error",
     "traceback": [
      "\u001b[1;36m  Cell \u001b[1;32mIn[7], line 1\u001b[1;36m\u001b[0m\n\u001b[1;33m    print(\"Merhaba\\Dunya\\\")\u001b[0m\n\u001b[1;37m          ^\u001b[0m\n\u001b[1;31mSyntaxError\u001b[0m\u001b[1;31m:\u001b[0m unterminated string literal (detected at line 1)\n"
     ]
    }
   ],
   "source": [
    "print(\"Merhaba\\Dunya\\\")"
   ]
  },
  {
   "cell_type": "markdown",
   "metadata": {},
   "source": [
    "* Kacis dizileri islenirken \",' karekterlerınıde kapsadıgını unutmayalım"
   ]
  },
  {
   "cell_type": "markdown",
   "metadata": {},
   "source": [
    "# random Kutuphanesi"
   ]
  },
  {
   "cell_type": "markdown",
   "metadata": {},
   "source": [
    "* random kutuphanesi isminden de yola cikarilabilecegi gibi rastgele bazi olaylari teiklemek icin kullanilmaktadir, Ornegin rastgele bir sayi,karekter,belirli aralikta bulunan bir harf,sayi yada sayilar gibi rastgele gelmesini istedigimiz karekterleri getirir."
   ]
  },
  {
   "cell_type": "code",
   "execution_count": 8,
   "metadata": {},
   "outputs": [],
   "source": [
    "import random as rnd"
   ]
  },
  {
   "cell_type": "code",
   "execution_count": 9,
   "metadata": {},
   "outputs": [
    {
     "data": {
      "text/plain": [
       "['BPF',\n",
       " 'LOG4',\n",
       " 'NV_MAGICCONST',\n",
       " 'RECIP_BPF',\n",
       " 'Random',\n",
       " 'SG_MAGICCONST',\n",
       " 'SystemRandom',\n",
       " 'TWOPI',\n",
       " '_ONE',\n",
       " '_Sequence',\n",
       " '__all__',\n",
       " '__builtins__',\n",
       " '__cached__',\n",
       " '__doc__',\n",
       " '__file__',\n",
       " '__loader__',\n",
       " '__name__',\n",
       " '__package__',\n",
       " '__spec__',\n",
       " '_accumulate',\n",
       " '_acos',\n",
       " '_bisect',\n",
       " '_ceil',\n",
       " '_cos',\n",
       " '_e',\n",
       " '_exp',\n",
       " '_fabs',\n",
       " '_floor',\n",
       " '_index',\n",
       " '_inst',\n",
       " '_isfinite',\n",
       " '_lgamma',\n",
       " '_log',\n",
       " '_log2',\n",
       " '_os',\n",
       " '_pi',\n",
       " '_random',\n",
       " '_repeat',\n",
       " '_sha512',\n",
       " '_sin',\n",
       " '_sqrt',\n",
       " '_test',\n",
       " '_test_generator',\n",
       " '_urandom',\n",
       " '_warn',\n",
       " 'betavariate',\n",
       " 'binomialvariate',\n",
       " 'choice',\n",
       " 'choices',\n",
       " 'expovariate',\n",
       " 'gammavariate',\n",
       " 'gauss',\n",
       " 'getrandbits',\n",
       " 'getstate',\n",
       " 'lognormvariate',\n",
       " 'normalvariate',\n",
       " 'paretovariate',\n",
       " 'randbytes',\n",
       " 'randint',\n",
       " 'random',\n",
       " 'randrange',\n",
       " 'sample',\n",
       " 'seed',\n",
       " 'setstate',\n",
       " 'shuffle',\n",
       " 'triangular',\n",
       " 'uniform',\n",
       " 'vonmisesvariate',\n",
       " 'weibullvariate']"
      ]
     },
     "execution_count": 9,
     "metadata": {},
     "output_type": "execute_result"
    }
   ],
   "source": [
    "dir(rnd)"
   ]
  },
  {
   "cell_type": "code",
   "execution_count": null,
   "metadata": {},
   "outputs": [],
   "source": [
    "a=list()\n",
    "a=dir(rnd)\n",
    "avabilebleFunk=list()\n",
    "for i in a:\n",
    "    if \"__\" not in i or \"_\" not in i:\n",
    "        avabilebleFunk.append(i)\n"
   ]
  },
  {
   "cell_type": "code",
   "execution_count": 20,
   "metadata": {},
   "outputs": [
    {
     "data": {
      "text/plain": [
       "60"
      ]
     },
     "execution_count": 20,
     "metadata": {},
     "output_type": "execute_result"
    }
   ],
   "source": [
    "len(avabilebleFunk)"
   ]
  },
  {
   "cell_type": "code",
   "execution_count": 21,
   "metadata": {},
   "outputs": [
    {
     "name": "stdout",
     "output_type": "stream",
     "text": [
      "['BPF', 'LOG4', 'NV_MAGICCONST', 'RECIP_BPF', 'Random', 'SG_MAGICCONST', 'SystemRandom', 'TWOPI', '_ONE', '_Sequence', '_accumulate', '_acos', '_bisect', '_ceil', '_cos', '_e', '_exp', '_fabs', '_floor', '_index', '_inst', '_isfinite', '_lgamma', '_log', '_log2', '_os', '_pi', '_random', '_repeat', '_sha512', '_sin', '_sqrt', '_test', '_test_generator', '_urandom', '_warn', 'betavariate', 'binomialvariate', 'choice', 'choices', 'expovariate', 'gammavariate', 'gauss', 'getrandbits', 'getstate', 'lognormvariate', 'normalvariate', 'paretovariate', 'randbytes', 'randint', 'random', 'randrange', 'sample', 'seed', 'setstate', 'shuffle', 'triangular', 'uniform', 'vonmisesvariate', 'weibullvariate']\n"
     ]
    }
   ],
   "source": [
    "print(avabilebleFunk)"
   ]
  },
  {
   "cell_type": "code",
   "execution_count": 22,
   "metadata": {},
   "outputs": [
    {
     "name": "stdout",
     "output_type": "stream",
     "text": [
      "NV_MAGICCONST\n"
     ]
    }
   ],
   "source": [
    "print(avabilebleFunk[rnd.randint(0,len(avabilebleFunk)-1)])"
   ]
  },
  {
   "cell_type": "code",
   "execution_count": 25,
   "metadata": {},
   "outputs": [
    {
     "name": "stdout",
     "output_type": "stream",
     "text": [
      "u\n",
      "k\n",
      "j\n",
      "a\n",
      "z\n",
      "a\n",
      "x\n",
      "n\n",
      "v\n",
      "m\n"
     ]
    }
   ],
   "source": [
    "for i in range(0,10):\n",
    "    randomCharecter=rnd.choice(\"abcdefghijklmnopqrstuvwxyz\")\n",
    "    print(randomCharecter)"
   ]
  },
  {
   "cell_type": "markdown",
   "metadata": {},
   "source": [
    "* Yukarida genel olarak analiz ettigimiz gibi random kutuphanesi icerisinde yer alan ve kullanilabilecegimiz kutuphaneleri listeledik.Ayrica random kutuphanesi icerisinde yer alan random choice kullanarak rastgele 10 adet karekter sectik.\n",
    "* yukarida yaptigimiz islemler icerisinde yer alan list for ve if kavramlari gelecek derslerimizde ele alacagiz bunlara takilmamanizi oneririm. "
   ]
  },
  {
   "cell_type": "code",
   "execution_count": 26,
   "metadata": {},
   "outputs": [
    {
     "data": {
      "text/plain": [
       "9"
      ]
     },
     "execution_count": 26,
     "metadata": {},
     "output_type": "execute_result"
    }
   ],
   "source": [
    "rnd.randrange(0,10)"
   ]
  },
  {
   "cell_type": "code",
   "execution_count": 27,
   "metadata": {},
   "outputs": [
    {
     "data": {
      "text/plain": [
       "11487254583287"
      ]
     },
     "execution_count": 27,
     "metadata": {},
     "output_type": "execute_result"
    }
   ],
   "source": [
    "rnd.randrange(0,124124124124154)"
   ]
  },
  {
   "cell_type": "code",
   "execution_count": 33,
   "metadata": {},
   "outputs": [
    {
     "data": {
      "text/plain": [
       "644"
      ]
     },
     "execution_count": 33,
     "metadata": {},
     "output_type": "execute_result"
    }
   ],
   "source": [
    "rnd.randrange(0,1000,2)"
   ]
  },
  {
   "cell_type": "code",
   "execution_count": 38,
   "metadata": {},
   "outputs": [
    {
     "name": "stdout",
     "output_type": "stream",
     "text": [
      "916\n"
     ]
    }
   ],
   "source": [
    "\"\"\" range(stop) veya range(start, stop[, step]) arasından rastgele bir öğe seçin.\n",
    "``choice(range(start, stop, step))`` ile kabaca eşdeğerdir ancak\n",
    "keyfi olarak büyük aralıkları destekler ve yaygın durumlar için optimize edilmiştir.\"\"\"\n",
    "rnd.randrange(0,1000,2) \n",
    "print(f\"{rnd.randrange(0,1000,2)}\")"
   ]
  },
  {
   "cell_type": "markdown",
   "metadata": {},
   "source": [
    "* random kutuphanesini kullanarak kullanicin belirledigi aralik ve step arasinda yer alan sayiyi secen bir uygulama yapalim beraber"
   ]
  },
  {
   "cell_type": "code",
   "execution_count": 3,
   "metadata": {},
   "outputs": [
    {
     "name": "stdout",
     "output_type": "stream",
     "text": [
      "*** Rastgele Sayi Secme Programina Hosgeldiniz ***\n",
      "Belirlediginiz Araliklar: 42 ve 2\n",
      "<class 'int'>\n",
      "<class 'int'>\n",
      "Belirlediginiz Ara;iklar: 2 ve 42\n",
      "Rastgele Secilen Sayi: 17\n"
     ]
    }
   ],
   "source": [
    "import random as rnd\n",
    "print(\"*** Rastgele Sayi Secme Programina Hosgeldiniz ***\")\n",
    "ilkSayi,ikinciSayi=int(input(\"Lutfen RAstgele olarak secmek istediginiz sayi icin aralik Belirleyiniz:\")),int(input())\n",
    "print(f\"Belirlediginiz Araliklar: {ilkSayi} ve {ikinciSayi}\")\n",
    "print(type(ilkSayi))\n",
    "print(type(ikinciSayi))\n",
    "if ilkSayi>ikinciSayi:\n",
    "    ikinciSayi,ilkSayi=ilkSayi,ikinciSayi\n",
    "print(f\"Belirlediginiz Ara;iklar: {ilkSayi} ve {ikinciSayi}\")\n",
    "print(f\"Rastgele Secilen Sayi: {rnd.randrange(ilkSayi,ikinciSayi)}\")\n"
   ]
  },
  {
   "cell_type": "code",
   "execution_count": 8,
   "metadata": {},
   "outputs": [
    {
     "name": "stdout",
     "output_type": "stream",
     "text": [
      "6\n"
     ]
    }
   ],
   "source": [
    "import random as rnd\n",
    "ilkSayi=int(input(\"Lutfen RAstgele olarak secmek istediginiz sayi icin aralik Belirleyiniz:\"))\n",
    "ikinciSayi=int(input(\"Ikinci Sayiyi Seciniz\"))\n",
    "if ilkSayi>ikinciSayi:\n",
    "    print(rnd.randrange(ikinciSayi,ilkSayi))\n",
    "else:\n",
    "    print(rnd.randrange(ilkSayi,ikinciSayi))\n"
   ]
  },
  {
   "cell_type": "code",
   "execution_count": null,
   "metadata": {},
   "outputs": [],
   "source": []
  }
 ],
 "metadata": {
  "kernelspec": {
   "display_name": "Python 3",
   "language": "python",
   "name": "python3"
  },
  "language_info": {
   "codemirror_mode": {
    "name": "ipython",
    "version": 3
   },
   "file_extension": ".py",
   "mimetype": "text/x-python",
   "name": "python",
   "nbconvert_exporter": "python",
   "pygments_lexer": "ipython3",
   "version": "3.12.6"
  }
 },
 "nbformat": 4,
 "nbformat_minor": 2
}
