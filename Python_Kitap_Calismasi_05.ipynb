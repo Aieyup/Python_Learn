{
 "cells": [
  {
   "cell_type": "markdown",
   "metadata": {},
   "source": [
    "# Bölüm 11\n",
    "### Kaçış dizileri\n"
   ]
  },
  {
   "cell_type": "code",
   "execution_count": 3,
   "metadata": {},
   "outputs": [
    {
     "data": {
      "text/plain": [
       "' Temelde kaçış dizilierini ilgili string değer içerisinde pythonun syntax değerlerinde yer alan argümanlar ile birlikte çakışma olmaması için kullnılır.'"
      ]
     },
     "execution_count": 3,
     "metadata": {},
     "output_type": "execute_result"
    }
   ],
   "source": [
    "\"\"\" Temelde kaçış dizilierini ilgili string değer içerisinde pythonun syntax değerlerinde yer alan argümanlar ile birlikte çakışma olmaması için kullnılır.\"\"\""
   ]
  },
  {
   "cell_type": "code",
   "execution_count": 4,
   "metadata": {},
   "outputs": [
    {
     "name": "stdout",
     "output_type": "stream",
     "text": [
      "Istanbul'un Semptleri\n"
     ]
    }
   ],
   "source": [
    "# Ornek 1\n",
    "print('Istanbul\\'un Semptleri')"
   ]
  },
  {
   "cell_type": "code",
   "execution_count": 13,
   "metadata": {},
   "outputs": [
    {
     "name": "stderr",
     "output_type": "stream",
     "text": [
      "<>:1: SyntaxWarning: invalid escape sequence '\\}'\n",
      "<>:1: SyntaxWarning: invalid escape sequence '\\}'\n",
      "C:\\Users\\asus\\AppData\\Local\\Temp\\ipykernel_22668\\327509498.py:1: SyntaxWarning: invalid escape sequence '\\}'\n",
      "  \"\"\"\n"
     ]
    },
    {
     "data": {
      "text/plain": [
       "\" \\nYukaridaku ornekte oldugu gibi kacis dizilerinden olan {\\\\} ile birlikte (') karakterini kullanarak string degeri olusturduk.\\n\""
      ]
     },
     "execution_count": 13,
     "metadata": {},
     "output_type": "execute_result"
    }
   ],
   "source": [
    "\"\"\" \n",
    "Yukaridaku ornekte oldugu gibi kacis dizilerinden olan {\\} ile birlikte (\\') karakterini kullanarak string degeri olusturduk.\n",
    "\"\"\""
   ]
  },
  {
   "cell_type": "markdown",
   "metadata": {},
   "source": [
    "* Kaçış dizileri bu örneklerden de anlaşılacağı üzere kendinden sonraki gelen karekter ile birleşerek bu karakterin özel bir anlam kazanmasını sağlar."
   ]
  },
  {
   "cell_type": "code",
   "execution_count": 16,
   "metadata": {},
   "outputs": [
    {
     "ename": "SyntaxError",
     "evalue": "unterminated string literal (detected at line 1) (348992756.py, line 1)",
     "output_type": "error",
     "traceback": [
      "\u001b[1;36m  Cell \u001b[1;32mIn[16], line 1\u001b[1;36m\u001b[0m\n\u001b[1;33m    print('Istanbul'un 5 gunluk hava tahmini')\u001b[0m\n\u001b[1;37m                                            ^\u001b[0m\n\u001b[1;31mSyntaxError\u001b[0m\u001b[1;31m:\u001b[0m unterminated string literal (detected at line 1)\n"
     ]
    }
   ],
   "source": [
    "print('Istanbul'un 5 gunluk hava tahmini')"
   ]
  },
  {
   "cell_type": "code",
   "execution_count": 17,
   "metadata": {},
   "outputs": [
    {
     "name": "stdout",
     "output_type": "stream",
     "text": [
      "Istanbul'un 5 gunluk hava tahmini\n"
     ]
    }
   ],
   "source": [
    "print('Istanbul' '\\'' 'un 5 gunluk hava tahmini')"
   ]
  },
  {
   "cell_type": "code",
   "execution_count": 20,
   "metadata": {},
   "outputs": [
    {
     "name": "stdout",
     "output_type": "stream",
     "text": [
      "Ahmet,\"Yarin ben adanaya gidiyorum.\"Dedi.\n"
     ]
    }
   ],
   "source": [
    "print(\"Ahmet,\\\"Yarin ben adanaya gidiyorum.\\\"Dedi.\")"
   ]
  },
  {
   "cell_type": "code",
   "execution_count": null,
   "metadata": {},
   "outputs": [
    {
     "name": "stdout",
     "output_type": "stream",
     "text": [
      "Bu bir hexadecimal value: A (A)\n",
      "Bu bir bell (alert) sesi: \u0007\n",
      "Bu bir backspace: Helo\n",
      "Bu bir formfeed:\fYeni sayfa\n",
      "Bu bir newline:\n",
      "Yeni satır\n",
      "Başlangıca döne return:\n",
      "Bu bir horizontal tab:\tTab\n",
      "Bu bir vertical tab:\u000bDikey tab\n",
      "Bu bir backslash: \\\n",
      "Bu bir single quote: '\n",
      "Bu bir double quote: \"\n",
      "Bu bir question mark: \\?\n",
      "Özel kaçış dizileri örnek cümlede:\n",
      "Bu bir octal value: A (A)\n",
      "\u0007\n"
     ]
    },
    {
     "name": "stderr",
     "output_type": "stream",
     "text": [
      "<>:23: SyntaxWarning: invalid escape sequence '\\?'\n",
      "<>:23: SyntaxWarning: invalid escape sequence '\\?'\n",
      "C:\\Users\\asus\\AppData\\Local\\Temp\\ipykernel_26232\\71982723.py:23: SyntaxWarning: invalid escape sequence '\\?'\n",
      "  print(\"Bu bir question mark: \\?\")\n"
     ]
    }
   ],
   "source": [
    "# Temel ozel kacis dizileri\n",
    "# \\n - yeni satir\n",
    "# \\t - tab\n",
    "# \\b - backspace\n",
    "# \\r - carriage return\n",
    "# \\f - form feed\n",
    "# \\v - vertical tab\n",
    "# \\\\ - backslash\n",
    "# \\' - single quote\n",
    "# \\\" - double quote\n",
    "# \\a - ascii bell\n",
    "print(\"Bu bir hexadecimal value: \\x41 (A)\")\n",
    "print(\"Bu bir bell (alert) sesi: \\a\")\n",
    "print(\"Bu bir backspace: Hel\\blo\")\n",
    "print(\"Bu bir formfeed:\\fYeni sayfa\")\n",
    "print(\"Bu bir newline:\\nYeni satır\")\n",
    "print(\"Bu bir carriage return:\\rBaşlangıca dön\")\n",
    "print(\"Bu bir horizontal tab:\\tTab\")\n",
    "print(\"Bu bir vertical tab:\\vDikey tab\")\n",
    "print(\"Bu bir backslash: \\\\\")\n",
    "print(\"Bu bir single quote: \\'\")\n",
    "print(\"Bu bir double quote: \\\"\")\n",
    "print(\"Bu bir question mark: \\?\")\n",
    "print(\"Özel kaçış dizileri örnek cümlede:\")\n",
    "print(\"Bu bir octal value: \\101 (A)\")"
   ]
  },
  {
   "cell_type": "code",
   "execution_count": null,
   "metadata": {},
   "outputs": [],
   "source": []
  },
  {
   "cell_type": "code",
   "execution_count": null,
   "metadata": {},
   "outputs": [],
   "source": [
    "    "
   ]
  }
 ],
 "metadata": {
  "kernelspec": {
   "display_name": "Python 3",
   "language": "python",
   "name": "python3"
  },
  "language_info": {
   "codemirror_mode": {
    "name": "ipython",
    "version": 3
   },
   "file_extension": ".py",
   "mimetype": "text/x-python",
   "name": "python",
   "nbconvert_exporter": "python",
   "pygments_lexer": "ipython3",
   "version": "3.12.6"
  }
 },
 "nbformat": 4,
 "nbformat_minor": 2
}
