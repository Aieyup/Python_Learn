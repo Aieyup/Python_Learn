{
 "cells": [
  {
   "cell_type": "markdown",
   "metadata": {},
   "source": [
    "# Bölüm 9\n",
    "### Kullaniciyla iletişim:Veri Alış-Verişi"
   ]
  },
  {
   "cell_type": "code",
   "execution_count": null,
   "metadata": {},
   "outputs": [],
   "source": [
    "\"\"\"\n",
    "python da kullanicilarimiz ile veri alış verişi için temel olarak input fonksiyonundan yaralanılır, Temel prensip olarak input fonksiyonu argüman olarak kullanıcıdan veya belirtiğimiz dış kaynaktan veri almaktadır.Özel bir işleme tabi tutulmuyor ise\n",
    "input fonksiyonu aldığı argümanları string veri tipinde işlemekte ve buna göre işlem yapmaktadır.\n",
    "\"\"\""
   ]
  },
  {
   "cell_type": "code",
   "execution_count": 1,
   "metadata": {},
   "outputs": [
    {
     "name": "stdout",
     "output_type": "stream",
     "text": [
      "Parolanız başarılı bir şekilde alınmıştır.\n"
     ]
    }
   ],
   "source": [
    "input(\"Lütfen bir parola giriniz: \")\n",
    "print(\"Parolanız başarılı bir şekilde alınmıştır.\")"
   ]
  },
  {
   "cell_type": "code",
   "execution_count": 3,
   "metadata": {},
   "outputs": [
    {
     "name": "stdout",
     "output_type": "stream",
     "text": [
      "Tesekurler\n",
      "Girdiginiz parola: 14das\n",
      "Girdiginiz parola hatali.\n"
     ]
    }
   ],
   "source": [
    "parola=input(\"Lutfen parolayi giriniz:\")\n",
    "print(f\"Tesekurler\\nGirdiginiz parola: {parola}\")\n",
    "print(\"Girdiginiz parola hatali.\")"
   ]
  },
  {
   "cell_type": "code",
   "execution_count": 4,
   "metadata": {},
   "outputs": [
    {
     "name": "stdout",
     "output_type": "stream",
     "text": [
      "1324\n"
     ]
    }
   ],
   "source": [
    "a=input(\"Lutfen bir sayi giriniz:\")\n",
    "b=input(\"Lutfen baska bir sayi giriniz:\")   \n",
    "print(a+b)"
   ]
  },
  {
   "cell_type": "code",
   "execution_count": 5,
   "metadata": {},
   "outputs": [],
   "source": [
    "#Yukarıdaki örnekte görüldüğü gibi input fonksiyonu aldığı argümanları string veri tipinde işlemekte ve buna göre işlem yapmaktadır."
   ]
  },
  {
   "cell_type": "code",
   "execution_count": 6,
   "metadata": {},
   "outputs": [
    {
     "ename": "TypeError",
     "evalue": "can only concatenate str (not \"int\") to str",
     "output_type": "error",
     "traceback": [
      "\u001b[1;31m---------------------------------------------------------------------------\u001b[0m",
      "\u001b[1;31mTypeError\u001b[0m                                 Traceback (most recent call last)",
      "Cell \u001b[1;32mIn[6], line 1\u001b[0m\n\u001b[1;32m----> 1\u001b[0m \u001b[38;5;124;43m\"\u001b[39;49m\u001b[38;5;124;43m12\u001b[39;49m\u001b[38;5;124;43m\"\u001b[39;49m\u001b[38;5;241;43m+\u001b[39;49m\u001b[38;5;241;43m12\u001b[39;49m\n",
      "\u001b[1;31mTypeError\u001b[0m: can only concatenate str (not \"int\") to str"
     ]
    }
   ],
   "source": [
    "\"12\"+12"
   ]
  },
  {
   "cell_type": "code",
   "execution_count": 7,
   "metadata": {},
   "outputs": [],
   "source": [
    "# Pythonda temel olarak toplama islemi yapilirken iki string ifade toplanarak bir arada yazilir. iki integer float veya diger sayi veri tipleri toplanirken toplama islemi yapilir.\n",
    "# Ancak string ifade ve sayi veri tipi toplanirken hata alinir. Bu durumda string ifadeyi sayi veri tipine cevirmemiz gerekmektedir.veya sayi veri tipini string veri tipine cevirmemiz gerekmektedir.\n"
   ]
  },
  {
   "cell_type": "code",
   "execution_count": 10,
   "metadata": {},
   "outputs": [
    {
     "name": "stdout",
     "output_type": "stream",
     "text": [
      "Girilen sayi:123 input fonksiyonu ile girilen verinin tipi<class 'str'> \n"
     ]
    }
   ],
   "source": [
    "soru=\"Lutfen bir Sayi giriniz:\"\n",
    "sayi1=input(soru)\n",
    "print(f\"Girilen sayi:{sayi1} input fonksiyonu ile girilen verinin tipi{type(sayi1)} \")\n",
    "\n"
   ]
  },
  {
   "cell_type": "code",
   "execution_count": 11,
   "metadata": {},
   "outputs": [
    {
     "ename": "TypeError",
     "evalue": "unsupported operand type(s) for ** or pow(): 'str' and 'int'",
     "output_type": "error",
     "traceback": [
      "\u001b[1;31m---------------------------------------------------------------------------\u001b[0m",
      "\u001b[1;31mTypeError\u001b[0m                                 Traceback (most recent call last)",
      "Cell \u001b[1;32mIn[11], line 1\u001b[0m\n\u001b[1;32m----> 1\u001b[0m \u001b[38;5;28mprint\u001b[39m(\u001b[38;5;124mf\u001b[39m\u001b[38;5;124m\"\u001b[39m\u001b[38;5;124mGirilen sayi:\u001b[39m\u001b[38;5;132;01m{\u001b[39;00msayi1\u001b[38;5;132;01m}\u001b[39;00m\u001b[38;5;124m Sayinin Karesi \u001b[39m\u001b[38;5;132;01m{\u001b[39;00m\u001b[43msayi1\u001b[49m\u001b[38;5;241;43m*\u001b[39;49m\u001b[38;5;241;43m*\u001b[39;49m\u001b[38;5;241;43m2\u001b[39;49m\u001b[38;5;132;01m}\u001b[39;00m\u001b[38;5;124m \u001b[39m\u001b[38;5;124m\"\u001b[39m)\n",
      "\u001b[1;31mTypeError\u001b[0m: unsupported operand type(s) for ** or pow(): 'str' and 'int'"
     ]
    }
   ],
   "source": [
    "print(f\"Girilen sayi:{sayi1} Sayinin Karesi {sayi1**2} \")"
   ]
  },
  {
   "cell_type": "code",
   "execution_count": 14,
   "metadata": {},
   "outputs": [
    {
     "data": {
      "text/plain": [
       "'\\nGörüldüğü gibi sayı siring bir ifade olarak alındığı için aritmetik işlemler yapılamadı bu bağlamda sayi için;\\ntip dönüşümü yaparak ilgilli fonksiyondan alınan veriyi belirlediğimiz veri formatına dönüştürüp işlemler yapabiliriz.\\n'"
      ]
     },
     "execution_count": 14,
     "metadata": {},
     "output_type": "execute_result"
    }
   ],
   "source": [
    "\"\"\"\n",
    "Görüldüğü gibi sayı siring bir ifade olarak alındığı için aritmetik işlemler yapılamadı bu bağlamda sayi için;\n",
    "tip dönüşümü yaparak ilgilli fonksiyondan alınan veriyi belirlediğimiz veri formatına dönüştürüp işlemler yapabiliriz.\n",
    "\"\"\""
   ]
  },
  {
   "cell_type": "code",
   "execution_count": 15,
   "metadata": {},
   "outputs": [
    {
     "data": {
      "text/plain": [
       "'\\nBu bağlamda input fonksiyonu ile alınan veri için temel olarak tip dönüşümünü yaptırmak için ilgii veriyi istediğimiz veri tipine dönüştürmek için ilgili veri tipini belirlediğimiz veri tipi için tip dönüşümü yaptırabilir.\\n'"
      ]
     },
     "execution_count": 15,
     "metadata": {},
     "output_type": "execute_result"
    }
   ],
   "source": [
    "\"\"\"\n",
    "Bu bağlamda input fonksiyonu ile alınan veri için temel olarak tip dönüşümünü yaptırmak için ilgii veriyi istediğimiz veri tipine dönüştürmek için ilgili veri tipini belirlediğimiz veri tipi için tip dönüşümü yaptırabilir.\n",
    "\"\"\"\n"
   ]
  },
  {
   "cell_type": "code",
   "execution_count": 16,
   "metadata": {},
   "outputs": [
    {
     "name": "stdout",
     "output_type": "stream",
     "text": [
      "Girdiginiz Sayi:14\n",
      "Girdiginiz sayinin Karesi:196\n"
     ]
    }
   ],
   "source": [
    "sayi2=int(input(soru))\n",
    "print(f\"Girdiginiz Sayi:{sayi2}\")\n",
    "print(f\"Girdiginiz sayinin Karesi:{sayi2**2}\")\n"
   ]
  },
  {
   "cell_type": "code",
   "execution_count": 17,
   "metadata": {},
   "outputs": [],
   "source": [
    "#Gördüğünüz gibi input fonksiyonundan alınan paremetre string veri tipine daha sonra bu fonksiyonun çıktısı int fonkiyonu için bir paremetre olarak kullanılarak girilen veri için bir tip dönüşümü yapıldı.\n"
   ]
  },
  {
   "cell_type": "code",
   "execution_count": null,
   "metadata": {},
   "outputs": [],
   "source": []
  }
 ],
 "metadata": {
  "kernelspec": {
   "display_name": "Python 3",
   "language": "python",
   "name": "python3"
  },
  "language_info": {
   "codemirror_mode": {
    "name": "ipython",
    "version": 3
   },
   "file_extension": ".py",
   "mimetype": "text/x-python",
   "name": "python",
   "nbconvert_exporter": "python",
   "pygments_lexer": "ipython3",
   "version": "3.12.6"
  }
 },
 "nbformat": 4,
 "nbformat_minor": 2
}
