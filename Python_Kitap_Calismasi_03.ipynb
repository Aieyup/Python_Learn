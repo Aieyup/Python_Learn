{
 "cells": [
  {
   "cell_type": "markdown",
   "metadata": {},
   "source": [
    "# Bölüm 9\n",
    "### Kullaniciyla iletişim:Veri Alış-Verişi"
   ]
  },
  {
   "cell_type": "code",
   "execution_count": null,
   "metadata": {},
   "outputs": [],
   "source": [
    "\"\"\"\n",
    "  python da kullanicilarimiz ile veri alış verişi için temel olarak input fonksiyonundan yaralanılır, Temel prensip olarak input fonksiyonu argüman olarak kullanıcıdan veya belirtiğimiz dış kaynaktan veri almaktadır.Özel bir işleme tabi tutulmuyor ise\n",
    " input fonksiyonu aldığı argümanları string veri tipinde işlemekte ve buna göre işlem yapmaktadır.\n",
    " \"\"\""
   ]
  },
  {
   "cell_type": "code",
   "execution_count": null,
   "metadata": {},
   "outputs": [],
   "source": []
  }
 ],
 "metadata": {
  "kernelspec": {
   "display_name": "Python 3",
   "language": "python",
   "name": "python3"
  },
  "language_info": {
   "name": "python",
   "version": "3.12.6"
  }
 },
 "nbformat": 4,
 "nbformat_minor": 2
}
