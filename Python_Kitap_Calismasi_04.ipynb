{
 "cells": [
  {
   "cell_type": "markdown",
   "metadata": {},
   "source": [
    "# Bölüm10\n",
    "### Dönüştürme İşlemleri"
   ]
  },
  {
   "cell_type": "code",
   "execution_count": 1,
   "metadata": {},
   "outputs": [
    {
     "data": {
      "text/plain": [
       "'\\n9. Bölümde de örneklerini gördüğümüz şekilde programlama yaparken veri dönşümüne ihtiyaç duyarız.\\nProgramlama süreçlerinde veri dönüşümü ve veri manipilasyonları ile Genellikle neredeyse zorunlu olarak karşılaşırız bu bölümde bu durumu ele alacağız.\\n\\n'"
      ]
     },
     "execution_count": 1,
     "metadata": {},
     "output_type": "execute_result"
    }
   ],
   "source": [
    "\"\"\"\n",
    "9. Bölümde de örneklerini gördüğümüz şekilde programlama yaparken veri dönşümüne ihtiyaç duyarız.\n",
    "Programlama süreçlerinde veri dönüşümü ve veri manipilasyonları ile Genellikle neredeyse zorunlu olarak karşılaşırız bu bölümde bu durumu ele alacağız.\n",
    "\n",
    "\"\"\" "
   ]
  },
  {
   "cell_type": "code",
   "execution_count": 2,
   "metadata": {},
   "outputs": [],
   "source": [
    "a= \"123\""
   ]
  },
  {
   "cell_type": "code",
   "execution_count": 3,
   "metadata": {},
   "outputs": [
    {
     "data": {
      "text/plain": [
       "str"
      ]
     },
     "execution_count": 3,
     "metadata": {},
     "output_type": "execute_result"
    }
   ],
   "source": [
    "type(a) # str"
   ]
  },
  {
   "cell_type": "code",
   "execution_count": 4,
   "metadata": {},
   "outputs": [],
   "source": [
    "b=321"
   ]
  },
  {
   "cell_type": "code",
   "execution_count": 5,
   "metadata": {},
   "outputs": [
    {
     "ename": "TypeError",
     "evalue": "can only concatenate str (not \"int\") to str",
     "output_type": "error",
     "traceback": [
      "\u001b[1;31m---------------------------------------------------------------------------\u001b[0m",
      "\u001b[1;31mTypeError\u001b[0m                                 Traceback (most recent call last)",
      "Cell \u001b[1;32mIn[5], line 1\u001b[0m\n\u001b[1;32m----> 1\u001b[0m \u001b[43ma\u001b[49m\u001b[38;5;241;43m+\u001b[39;49m\u001b[43mb\u001b[49m\n",
      "\u001b[1;31mTypeError\u001b[0m: can only concatenate str (not \"int\") to str"
     ]
    }
   ],
   "source": [
    "a+b"
   ]
  },
  {
   "cell_type": "code",
   "execution_count": 6,
   "metadata": {},
   "outputs": [],
   "source": [
    "# 9.bölümde de ele aldığımız gibi temel olarak aritmetik işlemler gibi işlemleri yaparken bazı temel veri manipilasyon işlemleri gerekmektedir"
   ]
  },
  {
   "cell_type": "code",
   "execution_count": 7,
   "metadata": {},
   "outputs": [
    {
     "data": {
      "text/plain": [
       "123"
      ]
     },
     "execution_count": 7,
     "metadata": {},
     "output_type": "execute_result"
    }
   ],
   "source": [
    "int(a)"
   ]
  },
  {
   "cell_type": "code",
   "execution_count": 8,
   "metadata": {},
   "outputs": [
    {
     "data": {
      "text/plain": [
       "str"
      ]
     },
     "execution_count": 8,
     "metadata": {},
     "output_type": "execute_result"
    }
   ],
   "source": [
    "type(a)"
   ]
  },
  {
   "cell_type": "code",
   "execution_count": 9,
   "metadata": {},
   "outputs": [],
   "source": [
    "# Tip dönüşümü yapılsa bile dönüştürdüğümüz verinin tipi değişmez bunun için temelde 3 farklı yol izleyebiliriz.\n",
    "#-1. Yol sadee dönüştürme işlemi yapmarak o anda o veri ile işlemler yapmak\n",
    "#-2. Yol dönüştürme işlemi yaparak o veriyi bir kendi üzerine yazmak\t\n",
    "#-3. Yol ise dönüştürme işlemi yaparak o veriyi bir değişkene atamak ve o değişken ile işlemler yapmak"
   ]
  },
  {
   "cell_type": "code",
   "execution_count": 10,
   "metadata": {},
   "outputs": [
    {
     "ename": "ValueError",
     "evalue": "invalid literal for int() with base 10: '123adasd'",
     "output_type": "error",
     "traceback": [
      "\u001b[1;31m---------------------------------------------------------------------------\u001b[0m",
      "\u001b[1;31mValueError\u001b[0m                                Traceback (most recent call last)",
      "Cell \u001b[1;32mIn[10], line 3\u001b[0m\n\u001b[0;32m      1\u001b[0m \u001b[38;5;66;03m# Tip dönüşümü yaparak işlem yaparken dönüşümün ilgili veride dönüştürmek istediğimiz verinin tipi ile uyumlu olması gerekmektedir.\u001b[39;00m\n\u001b[0;32m      2\u001b[0m a\u001b[38;5;241m=\u001b[39m \u001b[38;5;124m\"\u001b[39m\u001b[38;5;124m123adasd\u001b[39m\u001b[38;5;124m\"\u001b[39m\n\u001b[1;32m----> 3\u001b[0m \u001b[38;5;28;43mint\u001b[39;49m\u001b[43m(\u001b[49m\u001b[43ma\u001b[49m\u001b[43m)\u001b[49m \u001b[38;5;66;03m# ValueError: invalid literal for int() with base 10: '123adasd'\u001b[39;00m\n",
      "\u001b[1;31mValueError\u001b[0m: invalid literal for int() with base 10: '123adasd'"
     ]
    }
   ],
   "source": [
    "# Tip dönüşümü yaparak işlem yaparken dönüşümün ilgili veride dönüştürmek istediğimiz verinin tipi ile uyumlu olması gerekmektedir.\n",
    "a= \"123adasd\"\n",
    "int(a) # ValueError: invalid literal for int() with base 10: '123adasd'"
   ]
  },
  {
   "cell_type": "code",
   "execution_count": 11,
   "metadata": {},
   "outputs": [
    {
     "data": {
      "text/plain": [
       "'\\nHer ne kadar tip dönüşümü için a değişkeninde sayısal ifade olsada temelde içerisinde yer alan diğer string değerleden dolayı tip dönüşümü yapılamamaktadır.\\n\\n'"
      ]
     },
     "execution_count": 11,
     "metadata": {},
     "output_type": "execute_result"
    }
   ],
   "source": [
    "\"\"\"\n",
    "Her ne kadar tip dönüşümü için a değişkeninde sayısal ifade olsada temelde içerisinde yer alan diğer string değerleden dolayı tip dönüşümü yapılamamaktadır.\n",
    "\n",
    "\"\"\""
   ]
  },
  {
   "cell_type": "code",
   "execution_count": 12,
   "metadata": {},
   "outputs": [
    {
     "ename": "TypeError",
     "evalue": "unsupported operand type(s) for ** or pow(): 'str' and 'int'",
     "output_type": "error",
     "traceback": [
      "\u001b[1;31m---------------------------------------------------------------------------\u001b[0m",
      "\u001b[1;31mTypeError\u001b[0m                                 Traceback (most recent call last)",
      "Cell \u001b[1;32mIn[12], line 3\u001b[0m\n\u001b[0;32m      1\u001b[0m soru\u001b[38;5;241m=\u001b[39m\u001b[38;5;124m\"\u001b[39m\u001b[38;5;124mLutfen karesini almak isteediğiniz sayıyı giriniz:\u001b[39m\u001b[38;5;124m\"\u001b[39m   \n\u001b[0;32m      2\u001b[0m sayi\u001b[38;5;241m=\u001b[39m\u001b[38;5;28minput\u001b[39m(soru)\n\u001b[1;32m----> 3\u001b[0m \u001b[38;5;28mprint\u001b[39m(\u001b[38;5;124mf\u001b[39m\u001b[38;5;124m\"\u001b[39m\u001b[38;5;124mGirdiginiz sayinin karesi: \u001b[39m\u001b[38;5;132;01m{\u001b[39;00m\u001b[43msayi\u001b[49m\u001b[38;5;250;43m \u001b[39;49m\u001b[38;5;241;43m*\u001b[39;49m\u001b[38;5;241;43m*\u001b[39;49m\u001b[38;5;241;43m2\u001b[39;49m\u001b[38;5;132;01m}\u001b[39;00m\u001b[38;5;124m\"\u001b[39m)\n",
      "\u001b[1;31mTypeError\u001b[0m: unsupported operand type(s) for ** or pow(): 'str' and 'int'"
     ]
    }
   ],
   "source": [
    "soru=\"Lutfen karesini almak isteediğiniz sayıyı giriniz:\"   \n",
    "sayi=input(soru)\n",
    "print(f\"Girdiginiz sayinin karesi: {sayi **2}\")\n"
   ]
  },
  {
   "cell_type": "code",
   "execution_count": 13,
   "metadata": {},
   "outputs": [
    {
     "ename": "TypeError",
     "evalue": "unsupported operand type(s) for ** or pow(): 'str' and 'int'",
     "output_type": "error",
     "traceback": [
      "\u001b[1;31m---------------------------------------------------------------------------\u001b[0m",
      "\u001b[1;31mTypeError\u001b[0m                                 Traceback (most recent call last)",
      "Cell \u001b[1;32mIn[13], line 3\u001b[0m\n\u001b[0;32m      1\u001b[0m soru\u001b[38;5;241m=\u001b[39m\u001b[38;5;124m\"\u001b[39m\u001b[38;5;124mLutfen karesini almak isteediğiniz sayıyı giriniz:\u001b[39m\u001b[38;5;124m\"\u001b[39m   \n\u001b[0;32m      2\u001b[0m sayi\u001b[38;5;241m=\u001b[39m\u001b[38;5;28minput\u001b[39m(soru)\n\u001b[1;32m----> 3\u001b[0m \u001b[38;5;28mprint\u001b[39m(\u001b[38;5;124mf\u001b[39m\u001b[38;5;124m\"\u001b[39m\u001b[38;5;124mGirdiginiz sayinin karesi: \u001b[39m\u001b[38;5;132;01m{\u001b[39;00m\u001b[43msayi\u001b[49m\u001b[38;5;250;43m \u001b[39;49m\u001b[38;5;241;43m*\u001b[39;49m\u001b[38;5;241;43m*\u001b[39;49m\u001b[38;5;241;43m2\u001b[39;49m\u001b[38;5;132;01m}\u001b[39;00m\u001b[38;5;124m\"\u001b[39m)\n",
      "\u001b[1;31mTypeError\u001b[0m: unsupported operand type(s) for ** or pow(): 'str' and 'int'"
     ]
    }
   ],
   "source": [
    "soru=\"Lutfen karesini almak isteediğiniz sayıyı giriniz:\"   \n",
    "sayi=input(soru)\n",
    "print(f\"Girdiginiz sayinin karesi: {sayi **2}\")\n"
   ]
  },
  {
   "cell_type": "code",
   "execution_count": 14,
   "metadata": {},
   "outputs": [
    {
     "name": "stdout",
     "output_type": "stream",
     "text": [
      "Girdiginiz sayinin karesi: 169744\n"
     ]
    }
   ],
   "source": [
    "soru=\"Lutfen karesini almak isteediğiniz sayıyı giriniz:\"   \n",
    "sayi=int(input(soru))\n",
    "print(f\"Girdiginiz sayinin karesi: {sayi **2}\")\n"
   ]
  },
  {
   "cell_type": "code",
   "execution_count": 15,
   "metadata": {},
   "outputs": [
    {
     "name": "stdout",
     "output_type": "stream",
     "text": [
      "Girdiginiz Sayi:12 \n",
      "Girdiginiz sayinin karesi: 144\n",
      "\n"
     ]
    }
   ],
   "source": [
    "soru=\"Lutfen karesini almak isteediğiniz sayıyı giriniz:\"   \n",
    "sayi=int(input(soru))\n",
    "print(f\"Girdiginiz Sayi:{sayi} \\nGirdiginiz sayinin karesi: {sayi **2}\\n\")\n"
   ]
  },
  {
   "cell_type": "code",
   "execution_count": 16,
   "metadata": {},
   "outputs": [
    {
     "data": {
      "text/plain": [
       "'\\n Yukarida ogrendigimiz gibi bu islemleri kullanarak \\n kullanicindan alinan iki adet veri ile birlikte\\n basit bir toplama islemi yapcak hesap makinesi yapalim\\n\\n'"
      ]
     },
     "execution_count": 16,
     "metadata": {},
     "output_type": "execute_result"
    }
   ],
   "source": [
    "\"\"\"\n",
    " Yukarida ogrendigimiz gibi bu islemleri kullanarak \n",
    " kullanicindan alinan iki adet veri ile birlikte\n",
    " basit bir toplama islemi yapcak hesap makinesi yapalim\n",
    "\n",
    "\"\"\""
   ]
  },
  {
   "cell_type": "code",
   "execution_count": 17,
   "metadata": {},
   "outputs": [
    {
     "name": "stdout",
     "output_type": "stream",
     "text": [
      "********** Hesap Makinesine Hosgeldiniz.**********\n",
      "Girdiginiz Sayilar 12 ve 12 \n",
      "Toplamlari: 24\n",
      "**************************************************\n"
     ]
    }
   ],
   "source": [
    "print(\"********** Hesap Makinesine Hosgeldiniz.**********\")\n",
    "ilkSayi=int(input(\"Lutfen Toplama islemi yapmak istediginiz ilk sayiyi Giriniz:\"))\n",
    "ikinciSayi=int(input(\"Lutfen Toplama islemi yapmak istediginiz ikinci sayiyi Giriniz:\"))\n",
    "Toplam=ilkSayi+ikinciSayi\n",
    "print(f\"Girdiginiz Sayilar {ilkSayi} ve {ikinciSayi} \\nToplamlari: {Toplam}\\n**************************************************\")"
   ]
  },
  {
   "cell_type": "code",
   "execution_count": 18,
   "metadata": {},
   "outputs": [
    {
     "data": {
      "text/plain": [
       "' \\nYukarıdaki örnekte olduğu gibi kullaninin girdigi sayinin istedigi kuvvetini almasini saglayacak bir program yazalım\\n'"
      ]
     },
     "execution_count": 18,
     "metadata": {},
     "output_type": "execute_result"
    }
   ],
   "source": [
    "\"\"\" \n",
    "Yukarıdaki örnekte olduğu gibi kullaninin girdigi sayinin istedigi kuvvetini almasini saglayacak bir program yazalım\n",
    "\"\"\""
   ]
  },
  {
   "cell_type": "code",
   "execution_count": 19,
   "metadata": {},
   "outputs": [
    {
     "name": "stdout",
     "output_type": "stream",
     "text": [
      "********** Kuvvet Hesaplama Programina Hosgeldiniz.**********\n",
      "Girdiginiz Sayi:12\n",
      "Girfiniz Sayinin 12.kuuveti: 8916100448256\n",
      "*************************************************************\n"
     ]
    }
   ],
   "source": [
    "print(\"********** Kuvvet Hesaplama Programina Hosgeldiniz.**********\")\n",
    "sayi=int(input(\"Kutfen kuvvetini almak istediginiz sayiyi giriniz:\"))\n",
    "kuvet=int(input(f\"Lutfen {sayi} sayisinin kacinci kuvvetini almak istediginizi giriniz:\"))\n",
    "kuuvet=sayi ** kuvet\n",
    "print(f\"Girdiginiz Sayi:{sayi}\\nGirfiniz Sayinin {kuvet}.kuuveti: {kuuvet}\\n*************************************************************\")"
   ]
  },
  {
   "cell_type": "code",
   "execution_count": 20,
   "metadata": {},
   "outputs": [
    {
     "name": "stdout",
     "output_type": "stream",
     "text": [
      "Merhabba Temel olarak Kaçış dizilerinden yaralanarak ekrana yazdırma işlemlerini gerçekleştirebiliriz.\n",
      "      asdadsasfa\n",
      "\n",
      "      asafasa \n",
      "\n",
      "        asasas\n",
      "\n",
      "\n",
      "\n"
     ]
    }
   ],
   "source": [
    "print(\"\"\"\\\n",
    "Merhabba Temel olarak Kaçış dizilerinden yaralanarak ekrana yazdırma işlemlerini gerçekleştirebiliriz.\n",
    "      asdadsasfa\\n\n",
    "      asafasa \\n\n",
    "        asasas\\n\n",
    "\n",
    "\"\"\")"
   ]
  },
  {
   "cell_type": "code",
   "execution_count": 21,
   "metadata": {},
   "outputs": [
    {
     "data": {
      "text/plain": [
       "'\\nBır sting ifade de olan sayiyi bir int olarak tip donusumu yaptigimiz gibi bunun tam tersinide yapabiliriz\\n'"
      ]
     },
     "execution_count": 21,
     "metadata": {},
     "output_type": "execute_result"
    }
   ],
   "source": [
    "\"\"\"\n",
    "Bır sting ifade de olan sayiyi bir int olarak tip donusumu yaptigimiz gibi bunun tam tersinide yapabiliriz\n",
    "\"\"\""
   ]
  },
  {
   "cell_type": "code",
   "execution_count": 22,
   "metadata": {},
   "outputs": [
    {
     "name": "stdout",
     "output_type": "stream",
     "text": [
      "123\n",
      "<class 'str'>\n",
      "123123\n",
      "1\n"
     ]
    }
   ],
   "source": [
    "sayi=123\n",
    "sayi=str(sayi)\n",
    "print(sayi)\n",
    "print(type(sayi))\n",
    "print(sayi + sayi)\n",
    "print(sayi[0])"
   ]
  },
  {
   "cell_type": "markdown",
   "metadata": {},
   "source": [
    "### datetime Kutuphanesi"
   ]
  },
  {
   "cell_type": "code",
   "execution_count": 23,
   "metadata": {},
   "outputs": [],
   "source": [
    "import datetime as dtime"
   ]
  },
  {
   "cell_type": "code",
   "execution_count": 24,
   "metadata": {},
   "outputs": [
    {
     "data": {
      "text/plain": [
       "['MAXYEAR',\n",
       " 'MINYEAR',\n",
       " 'UTC',\n",
       " '__all__',\n",
       " '__builtins__',\n",
       " '__cached__',\n",
       " '__doc__',\n",
       " '__file__',\n",
       " '__loader__',\n",
       " '__name__',\n",
       " '__package__',\n",
       " '__spec__',\n",
       " 'date',\n",
       " 'datetime',\n",
       " 'datetime_CAPI',\n",
       " 'time',\n",
       " 'timedelta',\n",
       " 'timezone',\n",
       " 'tzinfo']"
      ]
     },
     "execution_count": 24,
     "metadata": {},
     "output_type": "execute_result"
    }
   ],
   "source": [
    "dir(dtime)"
   ]
  },
  {
   "cell_type": "code",
   "execution_count": 25,
   "metadata": {},
   "outputs": [
    {
     "name": "stdout",
     "output_type": "stream",
     "text": [
      "MAXYEAR\n",
      "MINYEAR\n",
      "UTC\n",
      "date\n",
      "datetime\n",
      "time\n",
      "timedelta\n",
      "timezone\n",
      "tzinfo\n"
     ]
    }
   ],
   "source": [
    "a=dir(dtime)\n",
    "c=list()\n",
    "for b in a:\n",
    "    if \"_\" not in b:\n",
    "        print(b)\n",
    "        c.append(b)"
   ]
  },
  {
   "cell_type": "code",
   "execution_count": 26,
   "metadata": {},
   "outputs": [
    {
     "data": {
      "text/plain": [
       "['MAXYEAR',\n",
       " 'MINYEAR',\n",
       " 'UTC',\n",
       " 'date',\n",
       " 'datetime',\n",
       " 'time',\n",
       " 'timedelta',\n",
       " 'timezone',\n",
       " 'tzinfo']"
      ]
     },
     "execution_count": 26,
     "metadata": {},
     "output_type": "execute_result"
    }
   ],
   "source": [
    "c"
   ]
  },
  {
   "cell_type": "code",
   "execution_count": 27,
   "metadata": {},
   "outputs": [
    {
     "data": {
      "text/plain": [
       "' Daha önceki derslerde de gördüğümüz gibi kütüphane içerisinde yer alan ve bu kütüphanede kullabildiğimiz fonksiyonları c listesine ekledim. '"
      ]
     },
     "execution_count": 27,
     "metadata": {},
     "output_type": "execute_result"
    }
   ],
   "source": [
    "\"\"\" Daha önceki derslerde de gördüğümüz gibi kütüphane içerisinde yer alan ve bu kütüphanede kullabildiğimiz fonksiyonları c listesine ekledim. \"\"\""
   ]
  },
  {
   "cell_type": "code",
   "execution_count": 28,
   "metadata": {},
   "outputs": [
    {
     "data": {
      "text/plain": [
       "['MAXYEAR',\n",
       " 'MINYEAR',\n",
       " 'UTC',\n",
       " 'date',\n",
       " 'datetime',\n",
       " 'time',\n",
       " 'timedelta',\n",
       " 'timezone',\n",
       " 'tzinfo']"
      ]
     },
     "execution_count": 28,
     "metadata": {},
     "output_type": "execute_result"
    }
   ],
   "source": [
    "c"
   ]
  },
  {
   "cell_type": "code",
   "execution_count": 29,
   "metadata": {},
   "outputs": [
    {
     "data": {
      "text/plain": [
       "datetime.time(0, 0)"
      ]
     },
     "execution_count": 29,
     "metadata": {},
     "output_type": "execute_result"
    }
   ],
   "source": [
    "dtime.time()"
   ]
  },
  {
   "cell_type": "code",
   "execution_count": 31,
   "metadata": {},
   "outputs": [
    {
     "name": "stdout",
     "output_type": "stream",
     "text": [
      "astimezone\n",
      "combine\n",
      "ctime\n",
      "date\n",
      "day\n",
      "dst\n",
      "fold\n",
      "fromisocalendar\n",
      "fromisoformat\n",
      "fromordinal\n",
      "fromtimestamp\n",
      "hour\n",
      "isocalendar\n",
      "isoformat\n",
      "isoweekday\n",
      "max\n",
      "microsecond\n",
      "min\n",
      "minute\n",
      "month\n",
      "now\n",
      "replace\n",
      "resolution\n",
      "second\n",
      "strftime\n",
      "strptime\n",
      "time\n",
      "timestamp\n",
      "timetuple\n",
      "timetz\n",
      "today\n",
      "toordinal\n",
      "tzinfo\n",
      "tzname\n",
      "utcfromtimestamp\n",
      "utcnow\n",
      "utcoffset\n",
      "utctimetuple\n",
      "weekday\n",
      "year\n"
     ]
    }
   ],
   "source": [
    "v=dir(dtime.datetime)\n",
    "for i in v:\n",
    "    if \"_\" not in i:\n",
    "        print(i)\n",
    "        c.append(i)"
   ]
  },
  {
   "cell_type": "code",
   "execution_count": 32,
   "metadata": {},
   "outputs": [
    {
     "data": {
      "text/plain": [
       "['MAXYEAR',\n",
       " 'MINYEAR',\n",
       " 'UTC',\n",
       " 'date',\n",
       " 'datetime',\n",
       " 'time',\n",
       " 'timedelta',\n",
       " 'timezone',\n",
       " 'tzinfo',\n",
       " 'astimezone',\n",
       " 'combine',\n",
       " 'ctime',\n",
       " 'date',\n",
       " 'day',\n",
       " 'dst',\n",
       " 'fold',\n",
       " 'fromisocalendar',\n",
       " 'fromisoformat',\n",
       " 'fromordinal',\n",
       " 'fromtimestamp',\n",
       " 'hour',\n",
       " 'isocalendar',\n",
       " 'isoformat',\n",
       " 'isoweekday',\n",
       " 'max',\n",
       " 'microsecond',\n",
       " 'min',\n",
       " 'minute',\n",
       " 'month',\n",
       " 'now',\n",
       " 'replace',\n",
       " 'resolution',\n",
       " 'second',\n",
       " 'strftime',\n",
       " 'strptime',\n",
       " 'time',\n",
       " 'timestamp',\n",
       " 'timetuple',\n",
       " 'timetz',\n",
       " 'today',\n",
       " 'toordinal',\n",
       " 'tzinfo',\n",
       " 'tzname',\n",
       " 'utcfromtimestamp',\n",
       " 'utcnow',\n",
       " 'utcoffset',\n",
       " 'utctimetuple',\n",
       " 'weekday',\n",
       " 'year']"
      ]
     },
     "execution_count": 32,
     "metadata": {},
     "output_type": "execute_result"
    }
   ],
   "source": [
    "c"
   ]
  },
  {
   "cell_type": "code",
   "execution_count": 34,
   "metadata": {},
   "outputs": [],
   "source": [
    "suan=dtime.datetime.now()"
   ]
  },
  {
   "cell_type": "code",
   "execution_count": 35,
   "metadata": {},
   "outputs": [],
   "source": [
    "from datetime import datetime as dt"
   ]
  },
  {
   "cell_type": "code",
   "execution_count": 38,
   "metadata": {},
   "outputs": [
    {
     "data": {
      "text/plain": [
       "datetime.datetime(2025, 2, 20, 17, 41, 30, 823650)"
      ]
     },
     "execution_count": 38,
     "metadata": {},
     "output_type": "execute_result"
    }
   ],
   "source": [
    "dir(dt)\n",
    "dt.now()"
   ]
  },
  {
   "cell_type": "code",
   "execution_count": 39,
   "metadata": {},
   "outputs": [
    {
     "data": {
      "text/plain": [
       "datetime.datetime(2025, 2, 20, 17, 41, 40, 375144)"
      ]
     },
     "execution_count": 39,
     "metadata": {},
     "output_type": "execute_result"
    }
   ],
   "source": [
    "dt.now()"
   ]
  },
  {
   "cell_type": "code",
   "execution_count": 41,
   "metadata": {},
   "outputs": [],
   "source": [
    "suan=dt.now()"
   ]
  },
  {
   "cell_type": "code",
   "execution_count": 42,
   "metadata": {},
   "outputs": [
    {
     "data": {
      "text/plain": [
       "datetime.datetime(2025, 2, 20, 17, 42, 36, 741104)"
      ]
     },
     "execution_count": 42,
     "metadata": {},
     "output_type": "execute_result"
    }
   ],
   "source": [
    "suan"
   ]
  },
  {
   "cell_type": "code",
   "execution_count": 43,
   "metadata": {},
   "outputs": [
    {
     "data": {
      "text/plain": [
       "['__add__',\n",
       " '__class__',\n",
       " '__delattr__',\n",
       " '__dir__',\n",
       " '__doc__',\n",
       " '__eq__',\n",
       " '__format__',\n",
       " '__ge__',\n",
       " '__getattribute__',\n",
       " '__getstate__',\n",
       " '__gt__',\n",
       " '__hash__',\n",
       " '__init__',\n",
       " '__init_subclass__',\n",
       " '__le__',\n",
       " '__lt__',\n",
       " '__ne__',\n",
       " '__new__',\n",
       " '__radd__',\n",
       " '__reduce__',\n",
       " '__reduce_ex__',\n",
       " '__repr__',\n",
       " '__rsub__',\n",
       " '__setattr__',\n",
       " '__sizeof__',\n",
       " '__str__',\n",
       " '__sub__',\n",
       " '__subclasshook__',\n",
       " 'astimezone',\n",
       " 'combine',\n",
       " 'ctime',\n",
       " 'date',\n",
       " 'day',\n",
       " 'dst',\n",
       " 'fold',\n",
       " 'fromisocalendar',\n",
       " 'fromisoformat',\n",
       " 'fromordinal',\n",
       " 'fromtimestamp',\n",
       " 'hour',\n",
       " 'isocalendar',\n",
       " 'isoformat',\n",
       " 'isoweekday',\n",
       " 'max',\n",
       " 'microsecond',\n",
       " 'min',\n",
       " 'minute',\n",
       " 'month',\n",
       " 'now',\n",
       " 'replace',\n",
       " 'resolution',\n",
       " 'second',\n",
       " 'strftime',\n",
       " 'strptime',\n",
       " 'time',\n",
       " 'timestamp',\n",
       " 'timetuple',\n",
       " 'timetz',\n",
       " 'today',\n",
       " 'toordinal',\n",
       " 'tzinfo',\n",
       " 'tzname',\n",
       " 'utcfromtimestamp',\n",
       " 'utcnow',\n",
       " 'utcoffset',\n",
       " 'utctimetuple',\n",
       " 'weekday',\n",
       " 'year']"
      ]
     },
     "execution_count": 43,
     "metadata": {},
     "output_type": "execute_result"
    }
   ],
   "source": [
    "dir(suan)"
   ]
  },
  {
   "cell_type": "code",
   "execution_count": 44,
   "metadata": {},
   "outputs": [
    {
     "data": {
      "text/plain": [
       "2025"
      ]
     },
     "execution_count": 44,
     "metadata": {},
     "output_type": "execute_result"
    }
   ],
   "source": [
    "suan.year"
   ]
  },
  {
   "cell_type": "code",
   "execution_count": 45,
   "metadata": {},
   "outputs": [
    {
     "data": {
      "text/plain": [
       "20"
      ]
     },
     "execution_count": 45,
     "metadata": {},
     "output_type": "execute_result"
    }
   ],
   "source": [
    "suan.day"
   ]
  },
  {
   "cell_type": "code",
   "execution_count": 46,
   "metadata": {},
   "outputs": [
    {
     "data": {
      "text/plain": [
       "2"
      ]
     },
     "execution_count": 46,
     "metadata": {},
     "output_type": "execute_result"
    }
   ],
   "source": [
    "suan.month"
   ]
  },
  {
   "cell_type": "code",
   "execution_count": 48,
   "metadata": {},
   "outputs": [
    {
     "data": {
      "text/plain": [
       "17"
      ]
     },
     "execution_count": 48,
     "metadata": {},
     "output_type": "execute_result"
    }
   ],
   "source": [
    "suan.hour"
   ]
  },
  {
   "cell_type": "code",
   "execution_count": 49,
   "metadata": {},
   "outputs": [
    {
     "data": {
      "text/plain": [
       "36"
      ]
     },
     "execution_count": 49,
     "metadata": {},
     "output_type": "execute_result"
    }
   ],
   "source": [
    "suan.second"
   ]
  },
  {
   "cell_type": "code",
   "execution_count": 50,
   "metadata": {},
   "outputs": [
    {
     "data": {
      "text/plain": [
       "'\\nBu bilgileri kullanarak bugunun tarihini gun ay yil sat ve dakika olarak yazdiran bir program yazalim\\n'"
      ]
     },
     "execution_count": 50,
     "metadata": {},
     "output_type": "execute_result"
    }
   ],
   "source": [
    "\"\"\"\n",
    "Bu bilgileri kullanarak bugunun tarihini gun ay yil sat ve dakika olarak yazdiran bir program yazalim\n",
    "\"\"\""
   ]
  },
  {
   "cell_type": "code",
   "execution_count": 51,
   "metadata": {},
   "outputs": [],
   "source": [
    "from datetime import datetime as dt"
   ]
  },
  {
   "cell_type": "code",
   "execution_count": 56,
   "metadata": {},
   "outputs": [
    {
     "name": "stdout",
     "output_type": "stream",
     "text": [
      "********** Tarih ve Saat Bilgisi **********\n",
      "Bulundugumuz Tarih: 20/2/2025\n",
      "Bulundugumuz Saat: 17:48:24\n",
      "*******************************************\n",
      "\n"
     ]
    }
   ],
   "source": [
    "print(\"********** Tarih ve Saat Bilgisi **********\")\n",
    "suan=dt.now()\n",
    "yil=suan.year\n",
    "ay=suan.month\n",
    "gun=suan.day\n",
    "saat=suan.hour\n",
    "dakika=suan.minute\n",
    "saniye=suan.second\n",
    "print(f\"\"\"\\\n",
    "Bulundugumuz Tarih: {gun}/{ay}/{yil}\n",
    "Bulundugumuz Saat: {saat}:{dakika}:{saniye}\n",
    "*******************************************\n",
    "\"\"\")"
   ]
  },
  {
   "cell_type": "code",
   "execution_count": 57,
   "metadata": {},
   "outputs": [
    {
     "data": {
      "text/plain": [
       "'\\nBu bılgılerı kullanarak kullanıcından alınan dogum tarihi bilgisine gore kac yasında oldugunu hesaplayan bir program yazalım\\n'"
      ]
     },
     "execution_count": 57,
     "metadata": {},
     "output_type": "execute_result"
    }
   ],
   "source": [
    "\"\"\"\n",
    "Bu bılgılerı kullanarak kullanıcından alınan dogum tarihi bilgisine gore kac yasında oldugunu hesaplayan bir program yazalım\n",
    "\"\"\""
   ]
  },
  {
   "cell_type": "code",
   "execution_count": 61,
   "metadata": {},
   "outputs": [
    {
     "name": "stdout",
     "output_type": "stream",
     "text": [
      "********** Yas Hesaplama Programina Hosgeldiniz. **********\n",
      "Dogum Tarihiniz: 1989\n",
      "Yasiniz: 36\n",
      "***********************************************************\n"
     ]
    }
   ],
   "source": [
    "from datetime import datetime as dt\n",
    "soru=\"Lutfen Dogum Tarihinizi Yil seklinde saysal olarak giriniz:\"\n",
    "print(\"********** Yas Hesaplama Programina Hosgeldiniz. **********\")\n",
    "dogumTarihi=int(input(soru))\n",
    "dt.now()\n",
    "yas=dt.now().year-dogumTarihi\n",
    "print(f\"Dogum Tarihiniz: {dogumTarihi}\\nYasiniz: {yas}\\n***********************************************************\")\n"
   ]
  },
  {
   "cell_type": "code",
   "execution_count": null,
   "metadata": {},
   "outputs": [],
   "source": []
  }
 ],
 "metadata": {
  "kernelspec": {
   "display_name": "Python 3",
   "language": "python",
   "name": "python3"
  },
  "language_info": {
   "codemirror_mode": {
    "name": "ipython",
    "version": 3
   },
   "file_extension": ".py",
   "mimetype": "text/x-python",
   "name": "python",
   "nbconvert_exporter": "python",
   "pygments_lexer": "ipython3",
   "version": "3.12.6"
  }
 },
 "nbformat": 4,
 "nbformat_minor": 2
}
