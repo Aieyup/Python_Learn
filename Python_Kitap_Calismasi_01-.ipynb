{
 "cells": [
  {
   "cell_type": "markdown",
   "id": "c7bbede3",
   "metadata": {},
   "source": [
    "# 1.Bölüm:\n",
    "* Python guıdo Van Rassum tarafından Oluşturulmuştur."
   ]
  },
  {
   "cell_type": "markdown",
   "id": "40c35674",
   "metadata": {},
   "source": [
    "# 4.Bölüm Temel Kavramlar:\n",
    "* Argümanlar parametreler olarak düşünülebilir.Bir Fonksiyon da alacağı paremetereleri Düzenlemek ve yönetmek için önemlidir.\n",
    "* print() fonksiyonundaki sep= argümanı ile fonksiyon ekrana yazılanı basarken boşluk yerine yazmak istediğin karekteri basmamızı sağla."
   ]
  },
  {
   "cell_type": "code",
   "execution_count": 1,
   "id": "4aa3714c",
   "metadata": {},
   "outputs": [
    {
     "name": "stdout",
     "output_type": "stream",
     "text": [
      "www.google.com\n"
     ]
    }
   ],
   "source": [
    "print(\"www\",\"google\",\"com\",sep=\".\")"
   ]
  },
  {
   "cell_type": "code",
   "execution_count": 2,
   "id": "12f8b0a1",
   "metadata": {},
   "outputs": [
    {
     "name": "stdout",
     "output_type": "stream",
     "text": [
      "www.....google.....com\n"
     ]
    }
   ],
   "source": [
    "print(\"www\",\"google\",\"com\",sep=\".....\")"
   ]
  },
  {
   "cell_type": "code",
   "execution_count": 4,
   "id": "f3728b51",
   "metadata": {},
   "outputs": [
    {
     "name": "stdout",
     "output_type": "stream",
     "text": [
      "www/////google/////com\n"
     ]
    }
   ],
   "source": [
    "print(\"www\",\"google\",\"com\",sep=\"/////\")"
   ]
  },
  {
   "cell_type": "code",
   "execution_count": 6,
   "id": "1a119e00",
   "metadata": {},
   "outputs": [
    {
     "name": "stdout",
     "output_type": "stream",
     "text": [
      "elma-armut-muz-cilek\n"
     ]
    }
   ],
   "source": [
    "print(\"elma\",\"armut\",\"muz\",\"cilek\",sep=\"-\")"
   ]
  },
  {
   "cell_type": "code",
   "execution_count": 7,
   "id": "25f57d82",
   "metadata": {},
   "outputs": [
    {
     "name": "stdout",
     "output_type": "stream",
     "text": [
      "AfyonKaraHisar\n"
     ]
    }
   ],
   "source": [
    "print(\"Afyon\",\"Kara\",\"Hisar\",sep=\"\")"
   ]
  },
  {
   "cell_type": "markdown",
   "id": "03584eb5",
   "metadata": {},
   "source": [
    "### isimsiz argumanlar Her zaman isimsiz argumanlardan sonra tanimlanmalidir."
   ]
  },
  {
   "cell_type": "code",
   "execution_count": 9,
   "id": "2bdd6374",
   "metadata": {},
   "outputs": [
    {
     "name": "stdout",
     "output_type": "stream",
     "text": [
      "m u h a f i z l a r i n i z l a n\n"
     ]
    }
   ],
   "source": [
    "print(*\"muhafizlarinizlan\")"
   ]
  },
  {
   "cell_type": "code",
   "execution_count": 10,
   "id": "c70dad58",
   "metadata": {},
   "outputs": [
    {
     "name": "stdout",
     "output_type": "stream",
     "text": [
      "ğ ğ ğ ğ ğ ğ ğ ğ ğ ğ ğ ğ ğ ğ ğ ğ ğ ğ ğ ğ ğ\n"
     ]
    }
   ],
   "source": [
    "print(*\"ğğğğğğğğğğğğğğğğğğğğğ\")"
   ]
  },
  {
   "cell_type": "code",
   "execution_count": 11,
   "id": "9ccd2fae",
   "metadata": {},
   "outputs": [
    {
     "name": "stdout",
     "output_type": "stream",
     "text": [
      "i-s-t-i-h-a-z-a\n"
     ]
    }
   ],
   "source": [
    "print(*\"istihaza\",sep=\"-\")"
   ]
  },
  {
   "cell_type": "code",
   "execution_count": 12,
   "id": "e7287b16",
   "metadata": {},
   "outputs": [
    {
     "name": "stdout",
     "output_type": "stream",
     "text": [
      "i  s  t  i  h  a  z  a\n"
     ]
    }
   ],
   "source": [
    "print(*\"istihaza\",sep=\"  \")"
   ]
  },
  {
   "cell_type": "code",
   "execution_count": 13,
   "id": "b6ff1891",
   "metadata": {},
   "outputs": [
    {
     "name": "stdout",
     "output_type": "stream",
     "text": [
      "0-1-2-3-4-5-6-7-8-9\n"
     ]
    }
   ],
   "source": [
    "print(*\"0123456789\",sep=\"-\")"
   ]
  },
  {
   "cell_type": "code",
   "execution_count": 15,
   "id": "aece0b58",
   "metadata": {},
   "outputs": [
    {
     "name": "stdout",
     "output_type": "stream",
     "text": [
      "Merhaba Zalim Dunya\n",
      "\n"
     ]
    }
   ],
   "source": [
    "print(\"Merhaba Zalim Dunya\",end=\"\\n\\n\")"
   ]
  },
  {
   "cell_type": "markdown",
   "id": "f96fe4a4",
   "metadata": {},
   "source": [
    "### Kaçış dizileri\n",
    "* \\n \\t \\a \\r \\u "
   ]
  },
  {
   "cell_type": "code",
   "execution_count": 20,
   "id": "de7a0a9f",
   "metadata": {},
   "outputs": [
    {
     "name": "stdout",
     "output_type": "stream",
     "text": [
      "\u0007\u0007\u0007\u0007\u0007\u0007\u0007\u0007\u0007\u0007\u0007\u0007\u0007\u0007\u0007\u0007\u0007\u0007\u0007\u0007\u0007\u0007\u0007\u0007\u0007\u0007\u0007\u0007\u0007\u0007\u0007\u0007\u0007\u0007\u0007\u0007\u0007\u0007\u0007\u0007\u0007\u0007\u0007\u0007\u0007\u0007\u0007\u0007\u0007\u0007\u0007\u0007\u0007\u0007\u0007\u0007\n"
     ]
    }
   ],
   "source": [
    "print(\"\\a\\a\\a\\a\\a\\a\\a\\a\\a\\a\\a\\a\\a\\a\\a\\a\\a\\a\\a\\a\\a\\a\\a\\a\\a\\a\\a\\a\\a\\a\\a\\a\\a\\a\\a\\a\\a\\a\\a\\a\\a\\a\\a\\a\\a\\a\\a\\a\\a\\a\\a\\a\\a\\a\\a\\a\")"
   ]
  },
  {
   "cell_type": "code",
   "execution_count": 21,
   "id": "537c7fac",
   "metadata": {},
   "outputs": [
    {
     "name": "stdout",
     "output_type": "stream",
     "text": [
      "\n",
      "Python Java C++\n",
      "----- --- ---\n"
     ]
    }
   ],
   "source": [
    "print(\"\\nPython Java C++\",end=\"\\n----- --- ---\\n\")"
   ]
  },
  {
   "cell_type": "code",
   "execution_count": 25,
   "id": "869d8dd7",
   "metadata": {},
   "outputs": [
    {
     "name": "stdout",
     "output_type": "stream",
     "text": [
      "\n",
      "Python Java C++\n",
      "-----  ---- ---\n"
     ]
    }
   ],
   "source": [
    "print(\"\\nPython Java C++\",end=\"\\n-----  ---- ---\\n\")"
   ]
  },
  {
   "cell_type": "code",
   "execution_count": null,
   "id": "530b39eb",
   "metadata": {},
   "outputs": [],
   "source": []
  }
 ],
 "metadata": {
  "kernelspec": {
   "display_name": "Python 3 (ipykernel)",
   "language": "python",
   "name": "python3"
  },
  "language_info": {
   "codemirror_mode": {
    "name": "ipython",
    "version": 3
   },
   "file_extension": ".py",
   "mimetype": "text/x-python",
   "name": "python",
   "nbconvert_exporter": "python",
   "pygments_lexer": "ipython3",
   "version": "3.11.5"
  }
 },
 "nbformat": 4,
 "nbformat_minor": 5
}
